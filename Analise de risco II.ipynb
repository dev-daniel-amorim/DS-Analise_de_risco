{
 "cells": [
  {
   "cell_type": "markdown",
   "id": "57d7eac9",
   "metadata": {},
   "source": [
    "# Análise de risco II\n",
    "Vamos refazer a análise de risco I ultilizando outras métricas e aplicar ensinamentos das aulas passadas como balanceamento de classes sem balancear os dados de teste, pois como dito, isso remove a realidade dos dados. [Leia mais aqui!](https://medium.com/@dev.daniel.amorim/balanceamento-de-classes-6eca350c465a)"
   ]
  },
  {
   "cell_type": "markdown",
   "id": "6cfe7ad2",
   "metadata": {},
   "source": [
    "* Entendimento\n",
    "* Coleta de dados\n",
    "* Tratamento dos dados\n",
    "* Limpeza dos dados\n",
    "* Análise exploratória"
   ]
  },
  {
   "cell_type": "markdown",
   "id": "4f5ad00d",
   "metadata": {},
   "source": [
    "# Bibliotecas"
   ]
  },
  {
   "cell_type": "code",
   "execution_count": 648,
   "id": "1e0f84cc",
   "metadata": {},
   "outputs": [],
   "source": [
    "import pandas as pd\n",
    "import numpy as np\n",
    "import seaborn as sns\n",
    "import matplotlib.pyplot as plt\n",
    "from mpl_toolkits.basemap import Basemap\n",
    "from sklearn.preprocessing import LabelEncoder"
   ]
  },
  {
   "cell_type": "markdown",
   "id": "b20465cd",
   "metadata": {},
   "source": [
    "# Coleta de dados"
   ]
  },
  {
   "cell_type": "code",
   "execution_count": 649,
   "id": "7d2e12e9",
   "metadata": {},
   "outputs": [
    {
     "data": {
      "text/html": [
       "<div>\n",
       "<style scoped>\n",
       "    .dataframe tbody tr th:only-of-type {\n",
       "        vertical-align: middle;\n",
       "    }\n",
       "\n",
       "    .dataframe tbody tr th {\n",
       "        vertical-align: top;\n",
       "    }\n",
       "\n",
       "    .dataframe thead th {\n",
       "        text-align: right;\n",
       "    }\n",
       "</style>\n",
       "<table border=\"1\" class=\"dataframe\">\n",
       "  <thead>\n",
       "    <tr style=\"text-align: right;\">\n",
       "      <th></th>\n",
       "      <th>ids</th>\n",
       "      <th>target_default</th>\n",
       "      <th>score_1</th>\n",
       "      <th>score_2</th>\n",
       "      <th>score_3</th>\n",
       "      <th>score_4</th>\n",
       "      <th>score_5</th>\n",
       "      <th>score_6</th>\n",
       "      <th>risk_rate</th>\n",
       "      <th>last_amount_borrowed</th>\n",
       "      <th>...</th>\n",
       "      <th>external_data_provider_fraud_score</th>\n",
       "      <th>lat_lon</th>\n",
       "      <th>marketing_channel</th>\n",
       "      <th>profile_phone_number</th>\n",
       "      <th>reported_income</th>\n",
       "      <th>shipping_state</th>\n",
       "      <th>shipping_zip_code</th>\n",
       "      <th>profile_tags</th>\n",
       "      <th>user_agent</th>\n",
       "      <th>target_fraud</th>\n",
       "    </tr>\n",
       "  </thead>\n",
       "  <tbody>\n",
       "    <tr>\n",
       "      <th>0</th>\n",
       "      <td>343b7e7b-2cf8-e508-b8fd-0a0285af30aa</td>\n",
       "      <td>False</td>\n",
       "      <td>1Rk8w4Ucd5yR3KcqZzLdow==</td>\n",
       "      <td>IOVu8au3ISbo6+zmfnYwMg==</td>\n",
       "      <td>350.0</td>\n",
       "      <td>101.800832</td>\n",
       "      <td>0.259555</td>\n",
       "      <td>108.427273</td>\n",
       "      <td>0.40</td>\n",
       "      <td>25033.92</td>\n",
       "      <td>...</td>\n",
       "      <td>645</td>\n",
       "      <td>(-29.151545708122246, -51.1386461804385)</td>\n",
       "      <td>Invite-email</td>\n",
       "      <td>514-9840782</td>\n",
       "      <td>57849.0</td>\n",
       "      <td>BR-MT</td>\n",
       "      <td>17528</td>\n",
       "      <td>{'tags': ['n19', 'n8']}</td>\n",
       "      <td>Mozilla/5.0 (Linux; Android 6.0.1; SGP771 Buil...</td>\n",
       "      <td>NaN</td>\n",
       "    </tr>\n",
       "    <tr>\n",
       "      <th>1</th>\n",
       "      <td>bc2c7502-bbad-0f8c-39c3-94e881967124</td>\n",
       "      <td>False</td>\n",
       "      <td>DGCQep2AE5QRkNCshIAlFQ==</td>\n",
       "      <td>SaamrHMo23l/3TwXOWgVzw==</td>\n",
       "      <td>370.0</td>\n",
       "      <td>97.062615</td>\n",
       "      <td>0.942655</td>\n",
       "      <td>92.002546</td>\n",
       "      <td>0.24</td>\n",
       "      <td>NaN</td>\n",
       "      <td>...</td>\n",
       "      <td>243</td>\n",
       "      <td>(-19.687710705798963, -47.94151536525154)</td>\n",
       "      <td>Radio-commercial</td>\n",
       "      <td>251-3659293</td>\n",
       "      <td>4902.0</td>\n",
       "      <td>BR-RS</td>\n",
       "      <td>40933</td>\n",
       "      <td>{'tags': ['n6', 'n7', 'nim']}</td>\n",
       "      <td>Mozilla/5.0 (Linux; Android 5.0.2; SAMSUNG SM-...</td>\n",
       "      <td>NaN</td>\n",
       "    </tr>\n",
       "    <tr>\n",
       "      <th>2</th>\n",
       "      <td>669630dd-2e6a-0396-84bf-455e5009c922</td>\n",
       "      <td>True</td>\n",
       "      <td>DGCQep2AE5QRkNCshIAlFQ==</td>\n",
       "      <td>Fv28Bz0YRTVAT5kl1bAV6g==</td>\n",
       "      <td>360.0</td>\n",
       "      <td>100.027073</td>\n",
       "      <td>0.351918</td>\n",
       "      <td>112.892453</td>\n",
       "      <td>0.29</td>\n",
       "      <td>7207.92</td>\n",
       "      <td>...</td>\n",
       "      <td>65</td>\n",
       "      <td>(-28.748023890412284, -51.867279334353995)</td>\n",
       "      <td>Waiting-list</td>\n",
       "      <td>230-6097993</td>\n",
       "      <td>163679.0</td>\n",
       "      <td>BR-RR</td>\n",
       "      <td>50985</td>\n",
       "      <td>{'tags': ['n0', 'n17', 'nim', 'da']}</td>\n",
       "      <td>Mozilla/5.0 (Linux; Android 6.0.1; SGP771 Buil...</td>\n",
       "      <td>NaN</td>\n",
       "    </tr>\n",
       "  </tbody>\n",
       "</table>\n",
       "<p>3 rows × 43 columns</p>\n",
       "</div>"
      ],
      "text/plain": [
       "                                    ids target_default  \\\n",
       "0  343b7e7b-2cf8-e508-b8fd-0a0285af30aa          False   \n",
       "1  bc2c7502-bbad-0f8c-39c3-94e881967124          False   \n",
       "2  669630dd-2e6a-0396-84bf-455e5009c922           True   \n",
       "\n",
       "                    score_1                   score_2  score_3     score_4  \\\n",
       "0  1Rk8w4Ucd5yR3KcqZzLdow==  IOVu8au3ISbo6+zmfnYwMg==    350.0  101.800832   \n",
       "1  DGCQep2AE5QRkNCshIAlFQ==  SaamrHMo23l/3TwXOWgVzw==    370.0   97.062615   \n",
       "2  DGCQep2AE5QRkNCshIAlFQ==  Fv28Bz0YRTVAT5kl1bAV6g==    360.0  100.027073   \n",
       "\n",
       "    score_5     score_6  risk_rate  last_amount_borrowed  ...  \\\n",
       "0  0.259555  108.427273       0.40              25033.92  ...   \n",
       "1  0.942655   92.002546       0.24                   NaN  ...   \n",
       "2  0.351918  112.892453       0.29               7207.92  ...   \n",
       "\n",
       "   external_data_provider_fraud_score  \\\n",
       "0                                 645   \n",
       "1                                 243   \n",
       "2                                  65   \n",
       "\n",
       "                                      lat_lon marketing_channel  \\\n",
       "0    (-29.151545708122246, -51.1386461804385)      Invite-email   \n",
       "1   (-19.687710705798963, -47.94151536525154)  Radio-commercial   \n",
       "2  (-28.748023890412284, -51.867279334353995)      Waiting-list   \n",
       "\n",
       "   profile_phone_number reported_income shipping_state shipping_zip_code  \\\n",
       "0           514-9840782         57849.0          BR-MT             17528   \n",
       "1           251-3659293          4902.0          BR-RS             40933   \n",
       "2           230-6097993        163679.0          BR-RR             50985   \n",
       "\n",
       "                           profile_tags  \\\n",
       "0               {'tags': ['n19', 'n8']}   \n",
       "1         {'tags': ['n6', 'n7', 'nim']}   \n",
       "2  {'tags': ['n0', 'n17', 'nim', 'da']}   \n",
       "\n",
       "                                          user_agent target_fraud  \n",
       "0  Mozilla/5.0 (Linux; Android 6.0.1; SGP771 Buil...          NaN  \n",
       "1  Mozilla/5.0 (Linux; Android 5.0.2; SAMSUNG SM-...          NaN  \n",
       "2  Mozilla/5.0 (Linux; Android 6.0.1; SGP771 Buil...          NaN  \n",
       "\n",
       "[3 rows x 43 columns]"
      ]
     },
     "metadata": {},
     "output_type": "display_data"
    }
   ],
   "source": [
    "df = pd.read_csv(\"database.csv\", sep=\",\")\n",
    "display(df[:3])"
   ]
  },
  {
   "cell_type": "markdown",
   "id": "dc40269d",
   "metadata": {},
   "source": [
    "# Tratamento dos dados"
   ]
  },
  {
   "cell_type": "markdown",
   "id": "fa57f5b4",
   "metadata": {},
   "source": [
    "## - Colunas irrelevantes\n",
    "Colunas que não afetam em nada nossos dados como id, nome, dados criptografadas e etc portanto serão excluídas. São elas:"
   ]
  },
  {
   "cell_type": "code",
   "execution_count": 650,
   "id": "4bfe25f1",
   "metadata": {},
   "outputs": [],
   "source": [
    "irrelevantes = ['ids', 'score_1', 'score_2','reason', 'state', 'zip', \n",
    "                'channel', 'job_name', 'real_state', \n",
    "                'external_data_provider_first_name', 'profile_phone_number',\n",
    "               'user_agent']"
   ]
  },
  {
   "cell_type": "markdown",
   "id": "d10fe22c",
   "metadata": {},
   "source": [
    "## - Dados faltantes:"
   ]
  },
  {
   "cell_type": "code",
   "execution_count": 651,
   "id": "d52d3332",
   "metadata": {},
   "outputs": [
    {
     "data": {
      "text/plain": [
       "(ids                                                  0.000000\n",
       " email                                                0.000000\n",
       " external_data_provider_credit_checks_last_month      0.000000\n",
       " external_data_provider_first_name                    0.000000\n",
       " external_data_provider_fraud_score                   0.000000\n",
       " profile_phone_number                                 0.000000\n",
       " application_time_applied                             0.000000\n",
       " reported_income                                      0.000000\n",
       " shipping_state                                       0.000000\n",
       " application_time_in_funnel                           0.000000\n",
       " score_6                                              0.000000\n",
       " profile_tags                                         0.000000\n",
       " score_5                                              0.000000\n",
       " score_4                                              0.000000\n",
       " shipping_zip_code                                    0.000000\n",
       " risk_rate                                            1.248889\n",
       " n_accounts                                           1.248889\n",
       " score_1                                              1.248889\n",
       " score_2                                              1.248889\n",
       " score_3                                              1.248889\n",
       " channel                                              1.248889\n",
       " zip                                                  1.248889\n",
       " state                                                1.248889\n",
       " real_state                                           1.248889\n",
       " income                                               1.248889\n",
       " reason                                               1.257778\n",
       " n_defaulted_loans                                    1.275556\n",
       " n_bankruptcies                                       1.548889\n",
       " user_agent                                           1.604444\n",
       " lat_lon                                              3.028889\n",
       " external_data_provider_email_seen_before             4.962222\n",
       " target_default                                       7.242222\n",
       " job_name                                             7.413333\n",
       " marketing_channel                                    7.951111\n",
       " facebook_profile                                     9.906667\n",
       " n_issues                                            25.653333\n",
       " credit_limit                                        30.666667\n",
       " external_data_provider_credit_checks_last_year      33.608889\n",
       " external_data_provider_credit_checks_last_2_year    50.284444\n",
       " ok_since                                            58.988889\n",
       " last_borrowed_in_months                             66.568889\n",
       " last_amount_borrowed                                66.568889\n",
       " target_fraud                                        96.617778\n",
       " dtype: float64,\n",
       " (45000, 43))"
      ]
     },
     "execution_count": 651,
     "metadata": {},
     "output_type": "execute_result"
    }
   ],
   "source": [
    "(df.isnull().sum() / df.shape[0] *100).sort_values(), df.shape"
   ]
  },
  {
   "cell_type": "markdown",
   "id": "9e868393",
   "metadata": {},
   "source": [
    "#### A tabela possui 45mil linhas e 43 colunas, destas, 5 colunas possuem 50% ou mais de dados faltantes  portanto serão excluídas, são elas:<br>"
   ]
  },
  {
   "cell_type": "code",
   "execution_count": 652,
   "id": "261e896e",
   "metadata": {},
   "outputs": [],
   "source": [
    "muitos_faltantes = [ 'external_data_provider_credit_checks_last_2_year', \n",
    "                       'ok_since', 'last_borrowed_in_months', \n",
    "                       'last_amount_borrowed', 'target_fraud']"
   ]
  },
  {
   "cell_type": "markdown",
   "id": "ce884b13",
   "metadata": {},
   "source": [
    "## - Anomalias e inconsistências"
   ]
  },
  {
   "cell_type": "code",
   "execution_count": 653,
   "id": "057dbea0",
   "metadata": {},
   "outputs": [
    {
     "data": {
      "text/html": [
       "<div>\n",
       "<style scoped>\n",
       "    .dataframe tbody tr th:only-of-type {\n",
       "        vertical-align: middle;\n",
       "    }\n",
       "\n",
       "    .dataframe tbody tr th {\n",
       "        vertical-align: top;\n",
       "    }\n",
       "\n",
       "    .dataframe thead th {\n",
       "        text-align: right;\n",
       "    }\n",
       "</style>\n",
       "<table border=\"1\" class=\"dataframe\">\n",
       "  <thead>\n",
       "    <tr style=\"text-align: right;\">\n",
       "      <th></th>\n",
       "      <th>score_3</th>\n",
       "      <th>score_4</th>\n",
       "      <th>score_5</th>\n",
       "      <th>score_6</th>\n",
       "      <th>risk_rate</th>\n",
       "      <th>last_amount_borrowed</th>\n",
       "      <th>last_borrowed_in_months</th>\n",
       "      <th>credit_limit</th>\n",
       "      <th>income</th>\n",
       "      <th>ok_since</th>\n",
       "      <th>...</th>\n",
       "      <th>n_accounts</th>\n",
       "      <th>n_issues</th>\n",
       "      <th>application_time_in_funnel</th>\n",
       "      <th>external_data_provider_credit_checks_last_2_year</th>\n",
       "      <th>external_data_provider_credit_checks_last_month</th>\n",
       "      <th>external_data_provider_credit_checks_last_year</th>\n",
       "      <th>external_data_provider_email_seen_before</th>\n",
       "      <th>external_data_provider_fraud_score</th>\n",
       "      <th>reported_income</th>\n",
       "      <th>shipping_zip_code</th>\n",
       "    </tr>\n",
       "  </thead>\n",
       "  <tbody>\n",
       "    <tr>\n",
       "      <th>count</th>\n",
       "      <td>44438.000000</td>\n",
       "      <td>45000.000000</td>\n",
       "      <td>45000.000000</td>\n",
       "      <td>45000.000000</td>\n",
       "      <td>44438.000000</td>\n",
       "      <td>15044.000000</td>\n",
       "      <td>15044.000000</td>\n",
       "      <td>31200.000000</td>\n",
       "      <td>4.443800e+04</td>\n",
       "      <td>18455.000000</td>\n",
       "      <td>...</td>\n",
       "      <td>44438.000000</td>\n",
       "      <td>33456.000000</td>\n",
       "      <td>45000.000000</td>\n",
       "      <td>22372.0</td>\n",
       "      <td>45000.000000</td>\n",
       "      <td>29876.000000</td>\n",
       "      <td>42767.000000</td>\n",
       "      <td>45000.000000</td>\n",
       "      <td>45000.00</td>\n",
       "      <td>45000.000000</td>\n",
       "    </tr>\n",
       "    <tr>\n",
       "      <th>mean</th>\n",
       "      <td>347.983258</td>\n",
       "      <td>100.006797</td>\n",
       "      <td>0.500037</td>\n",
       "      <td>99.925228</td>\n",
       "      <td>0.296717</td>\n",
       "      <td>13782.341991</td>\n",
       "      <td>41.763893</td>\n",
       "      <td>34381.951154</td>\n",
       "      <td>7.160739e+04</td>\n",
       "      <td>35.069737</td>\n",
       "      <td>...</td>\n",
       "      <td>10.696701</td>\n",
       "      <td>11.068119</td>\n",
       "      <td>247.537000</td>\n",
       "      <td>0.0</td>\n",
       "      <td>1.501067</td>\n",
       "      <td>0.503381</td>\n",
       "      <td>12.534781</td>\n",
       "      <td>500.399800</td>\n",
       "      <td>inf</td>\n",
       "      <td>33923.514844</td>\n",
       "    </tr>\n",
       "    <tr>\n",
       "      <th>std</th>\n",
       "      <td>110.429165</td>\n",
       "      <td>3.178080</td>\n",
       "      <td>0.288326</td>\n",
       "      <td>10.016549</td>\n",
       "      <td>0.101933</td>\n",
       "      <td>8077.571933</td>\n",
       "      <td>10.252705</td>\n",
       "      <td>36586.982218</td>\n",
       "      <td>5.185897e+04</td>\n",
       "      <td>21.663194</td>\n",
       "      <td>...</td>\n",
       "      <td>4.592463</td>\n",
       "      <td>4.595501</td>\n",
       "      <td>146.118398</td>\n",
       "      <td>0.0</td>\n",
       "      <td>1.114941</td>\n",
       "      <td>0.499997</td>\n",
       "      <td>126.530487</td>\n",
       "      <td>287.968873</td>\n",
       "      <td>NaN</td>\n",
       "      <td>12692.406382</td>\n",
       "    </tr>\n",
       "    <tr>\n",
       "      <th>min</th>\n",
       "      <td>0.000000</td>\n",
       "      <td>86.191572</td>\n",
       "      <td>0.000035</td>\n",
       "      <td>60.663039</td>\n",
       "      <td>0.000000</td>\n",
       "      <td>1005.180000</td>\n",
       "      <td>36.000000</td>\n",
       "      <td>0.000000</td>\n",
       "      <td>4.821180e+03</td>\n",
       "      <td>0.000000</td>\n",
       "      <td>...</td>\n",
       "      <td>0.000000</td>\n",
       "      <td>0.000000</td>\n",
       "      <td>0.000000</td>\n",
       "      <td>0.0</td>\n",
       "      <td>0.000000</td>\n",
       "      <td>0.000000</td>\n",
       "      <td>-999.000000</td>\n",
       "      <td>0.000000</td>\n",
       "      <td>403.00</td>\n",
       "      <td>12001.000000</td>\n",
       "    </tr>\n",
       "    <tr>\n",
       "      <th>25%</th>\n",
       "      <td>270.000000</td>\n",
       "      <td>97.867036</td>\n",
       "      <td>0.252150</td>\n",
       "      <td>93.198353</td>\n",
       "      <td>0.220000</td>\n",
       "      <td>7519.502500</td>\n",
       "      <td>36.000000</td>\n",
       "      <td>10000.000000</td>\n",
       "      <td>4.501078e+04</td>\n",
       "      <td>17.000000</td>\n",
       "      <td>...</td>\n",
       "      <td>7.000000</td>\n",
       "      <td>8.000000</td>\n",
       "      <td>120.000000</td>\n",
       "      <td>0.0</td>\n",
       "      <td>1.000000</td>\n",
       "      <td>0.000000</td>\n",
       "      <td>11.000000</td>\n",
       "      <td>252.000000</td>\n",
       "      <td>50948.25</td>\n",
       "      <td>22937.000000</td>\n",
       "    </tr>\n",
       "    <tr>\n",
       "      <th>50%</th>\n",
       "      <td>340.000000</td>\n",
       "      <td>100.018900</td>\n",
       "      <td>0.500753</td>\n",
       "      <td>99.974796</td>\n",
       "      <td>0.290000</td>\n",
       "      <td>12023.465000</td>\n",
       "      <td>36.000000</td>\n",
       "      <td>25647.000000</td>\n",
       "      <td>6.126676e+04</td>\n",
       "      <td>32.000000</td>\n",
       "      <td>...</td>\n",
       "      <td>10.000000</td>\n",
       "      <td>10.000000</td>\n",
       "      <td>248.000000</td>\n",
       "      <td>0.0</td>\n",
       "      <td>2.000000</td>\n",
       "      <td>1.000000</td>\n",
       "      <td>27.000000</td>\n",
       "      <td>503.000000</td>\n",
       "      <td>101779.00</td>\n",
       "      <td>33896.000000</td>\n",
       "    </tr>\n",
       "    <tr>\n",
       "      <th>75%</th>\n",
       "      <td>420.000000</td>\n",
       "      <td>102.141797</td>\n",
       "      <td>0.748816</td>\n",
       "      <td>106.640275</td>\n",
       "      <td>0.360000</td>\n",
       "      <td>19220.270000</td>\n",
       "      <td>36.000000</td>\n",
       "      <td>47086.750000</td>\n",
       "      <td>8.601923e+04</td>\n",
       "      <td>50.000000</td>\n",
       "      <td>...</td>\n",
       "      <td>13.000000</td>\n",
       "      <td>14.000000</td>\n",
       "      <td>375.000000</td>\n",
       "      <td>0.0</td>\n",
       "      <td>2.000000</td>\n",
       "      <td>1.000000</td>\n",
       "      <td>43.000000</td>\n",
       "      <td>747.000000</td>\n",
       "      <td>151337.25</td>\n",
       "      <td>44910.000000</td>\n",
       "    </tr>\n",
       "    <tr>\n",
       "      <th>max</th>\n",
       "      <td>990.000000</td>\n",
       "      <td>113.978234</td>\n",
       "      <td>0.999973</td>\n",
       "      <td>142.192400</td>\n",
       "      <td>0.900000</td>\n",
       "      <td>35059.600000</td>\n",
       "      <td>60.000000</td>\n",
       "      <td>448269.000000</td>\n",
       "      <td>5.000028e+06</td>\n",
       "      <td>141.000000</td>\n",
       "      <td>...</td>\n",
       "      <td>49.000000</td>\n",
       "      <td>49.000000</td>\n",
       "      <td>500.000000</td>\n",
       "      <td>0.0</td>\n",
       "      <td>3.000000</td>\n",
       "      <td>1.000000</td>\n",
       "      <td>59.000000</td>\n",
       "      <td>1000.000000</td>\n",
       "      <td>inf</td>\n",
       "      <td>56000.000000</td>\n",
       "    </tr>\n",
       "  </tbody>\n",
       "</table>\n",
       "<p>8 rows × 22 columns</p>\n",
       "</div>"
      ],
      "text/plain": [
       "            score_3       score_4       score_5       score_6     risk_rate  \\\n",
       "count  44438.000000  45000.000000  45000.000000  45000.000000  44438.000000   \n",
       "mean     347.983258    100.006797      0.500037     99.925228      0.296717   \n",
       "std      110.429165      3.178080      0.288326     10.016549      0.101933   \n",
       "min        0.000000     86.191572      0.000035     60.663039      0.000000   \n",
       "25%      270.000000     97.867036      0.252150     93.198353      0.220000   \n",
       "50%      340.000000    100.018900      0.500753     99.974796      0.290000   \n",
       "75%      420.000000    102.141797      0.748816    106.640275      0.360000   \n",
       "max      990.000000    113.978234      0.999973    142.192400      0.900000   \n",
       "\n",
       "       last_amount_borrowed  last_borrowed_in_months   credit_limit  \\\n",
       "count          15044.000000             15044.000000   31200.000000   \n",
       "mean           13782.341991                41.763893   34381.951154   \n",
       "std             8077.571933                10.252705   36586.982218   \n",
       "min             1005.180000                36.000000       0.000000   \n",
       "25%             7519.502500                36.000000   10000.000000   \n",
       "50%            12023.465000                36.000000   25647.000000   \n",
       "75%            19220.270000                36.000000   47086.750000   \n",
       "max            35059.600000                60.000000  448269.000000   \n",
       "\n",
       "             income      ok_since  ...    n_accounts      n_issues  \\\n",
       "count  4.443800e+04  18455.000000  ...  44438.000000  33456.000000   \n",
       "mean   7.160739e+04     35.069737  ...     10.696701     11.068119   \n",
       "std    5.185897e+04     21.663194  ...      4.592463      4.595501   \n",
       "min    4.821180e+03      0.000000  ...      0.000000      0.000000   \n",
       "25%    4.501078e+04     17.000000  ...      7.000000      8.000000   \n",
       "50%    6.126676e+04     32.000000  ...     10.000000     10.000000   \n",
       "75%    8.601923e+04     50.000000  ...     13.000000     14.000000   \n",
       "max    5.000028e+06    141.000000  ...     49.000000     49.000000   \n",
       "\n",
       "       application_time_in_funnel  \\\n",
       "count                45000.000000   \n",
       "mean                   247.537000   \n",
       "std                    146.118398   \n",
       "min                      0.000000   \n",
       "25%                    120.000000   \n",
       "50%                    248.000000   \n",
       "75%                    375.000000   \n",
       "max                    500.000000   \n",
       "\n",
       "       external_data_provider_credit_checks_last_2_year  \\\n",
       "count                                           22372.0   \n",
       "mean                                                0.0   \n",
       "std                                                 0.0   \n",
       "min                                                 0.0   \n",
       "25%                                                 0.0   \n",
       "50%                                                 0.0   \n",
       "75%                                                 0.0   \n",
       "max                                                 0.0   \n",
       "\n",
       "       external_data_provider_credit_checks_last_month  \\\n",
       "count                                     45000.000000   \n",
       "mean                                          1.501067   \n",
       "std                                           1.114941   \n",
       "min                                           0.000000   \n",
       "25%                                           1.000000   \n",
       "50%                                           2.000000   \n",
       "75%                                           2.000000   \n",
       "max                                           3.000000   \n",
       "\n",
       "       external_data_provider_credit_checks_last_year  \\\n",
       "count                                    29876.000000   \n",
       "mean                                         0.503381   \n",
       "std                                          0.499997   \n",
       "min                                          0.000000   \n",
       "25%                                          0.000000   \n",
       "50%                                          1.000000   \n",
       "75%                                          1.000000   \n",
       "max                                          1.000000   \n",
       "\n",
       "       external_data_provider_email_seen_before  \\\n",
       "count                              42767.000000   \n",
       "mean                                  12.534781   \n",
       "std                                  126.530487   \n",
       "min                                 -999.000000   \n",
       "25%                                   11.000000   \n",
       "50%                                   27.000000   \n",
       "75%                                   43.000000   \n",
       "max                                   59.000000   \n",
       "\n",
       "       external_data_provider_fraud_score  reported_income  shipping_zip_code  \n",
       "count                        45000.000000         45000.00       45000.000000  \n",
       "mean                           500.399800              inf       33923.514844  \n",
       "std                            287.968873              NaN       12692.406382  \n",
       "min                              0.000000           403.00       12001.000000  \n",
       "25%                            252.000000         50948.25       22937.000000  \n",
       "50%                            503.000000        101779.00       33896.000000  \n",
       "75%                            747.000000        151337.25       44910.000000  \n",
       "max                           1000.000000              inf       56000.000000  \n",
       "\n",
       "[8 rows x 22 columns]"
      ]
     },
     "execution_count": 653,
     "metadata": {},
     "output_type": "execute_result"
    }
   ],
   "source": [
    "df.describe()"
   ]
  },
  {
   "cell_type": "markdown",
   "id": "610797d0",
   "metadata": {},
   "source": [
    "#### Anomalias encontradas:\n",
    "\n",
    "reported_income: valores infinitos\n",
    "\n",
    "external_data_provider_email_seen_before: valores negativos muito alto"
   ]
  },
  {
   "cell_type": "code",
   "execution_count": 654,
   "id": "cc2607b8",
   "metadata": {},
   "outputs": [
    {
     "name": "stdout",
     "output_type": "stream",
     "text": [
      "Qntd de INF em reported_income: 67\n"
     ]
    }
   ],
   "source": [
    "print(f'Qntd de INF em reported_income: {len(df[df[\"reported_income\"] == np.inf])}')"
   ]
  },
  {
   "cell_type": "code",
   "execution_count": 655,
   "id": "52a35c95",
   "metadata": {},
   "outputs": [
    {
     "name": "stdout",
     "output_type": "stream",
     "text": [
      "Qnt de NEGATIVOS em external_data_provider_email_seen_before: 1293\n"
     ]
    }
   ],
   "source": [
    "print(f'Qnt de NEGATIVOS em external_data_provider_email_seen_before: {len(df[df[\"external_data_provider_email_seen_before\"] < 0])}')"
   ]
  },
  {
   "cell_type": "markdown",
   "id": "03f45423",
   "metadata": {},
   "source": [
    "## - Verificando colunas categóricas"
   ]
  },
  {
   "cell_type": "code",
   "execution_count": 656,
   "id": "055d1ed8",
   "metadata": {},
   "outputs": [
    {
     "data": {
      "text/html": [
       "<div>\n",
       "<style scoped>\n",
       "    .dataframe tbody tr th:only-of-type {\n",
       "        vertical-align: middle;\n",
       "    }\n",
       "\n",
       "    .dataframe tbody tr th {\n",
       "        vertical-align: top;\n",
       "    }\n",
       "\n",
       "    .dataframe thead th {\n",
       "        text-align: right;\n",
       "    }\n",
       "</style>\n",
       "<table border=\"1\" class=\"dataframe\">\n",
       "  <thead>\n",
       "    <tr style=\"text-align: right;\">\n",
       "      <th></th>\n",
       "      <th>ids</th>\n",
       "      <th>target_default</th>\n",
       "      <th>score_1</th>\n",
       "      <th>score_2</th>\n",
       "      <th>reason</th>\n",
       "      <th>facebook_profile</th>\n",
       "      <th>state</th>\n",
       "      <th>zip</th>\n",
       "      <th>channel</th>\n",
       "      <th>job_name</th>\n",
       "      <th>...</th>\n",
       "      <th>application_time_applied</th>\n",
       "      <th>email</th>\n",
       "      <th>external_data_provider_first_name</th>\n",
       "      <th>lat_lon</th>\n",
       "      <th>marketing_channel</th>\n",
       "      <th>profile_phone_number</th>\n",
       "      <th>shipping_state</th>\n",
       "      <th>profile_tags</th>\n",
       "      <th>user_agent</th>\n",
       "      <th>target_fraud</th>\n",
       "    </tr>\n",
       "  </thead>\n",
       "  <tbody>\n",
       "    <tr>\n",
       "      <th>0</th>\n",
       "      <td>343b7e7b-2cf8-e508-b8fd-0a0285af30aa</td>\n",
       "      <td>False</td>\n",
       "      <td>1Rk8w4Ucd5yR3KcqZzLdow==</td>\n",
       "      <td>IOVu8au3ISbo6+zmfnYwMg==</td>\n",
       "      <td>mLVIVxoGY7TUDJ1FyFoSIZi1SFcaBmO01AydRchaEiGYtU...</td>\n",
       "      <td>True</td>\n",
       "      <td>sjJbkqJS7cXalHLBFA+EOQ==</td>\n",
       "      <td>Ernn+uVXCMq/6ARrBCcd+A==</td>\n",
       "      <td>NCqL3QBx0pscDnx3ixKwXg==</td>\n",
       "      <td>mLVIVxoGY7TUDJ1FyFoSIZi1SFcaBmO01AydRchaEiGYtU...</td>\n",
       "      <td>...</td>\n",
       "      <td>07:52:34</td>\n",
       "      <td>outlook.com</td>\n",
       "      <td>leidelaura</td>\n",
       "      <td>(-29.151545708122246, -51.1386461804385)</td>\n",
       "      <td>Invite-email</td>\n",
       "      <td>514-9840782</td>\n",
       "      <td>BR-MT</td>\n",
       "      <td>{'tags': ['n19', 'n8']}</td>\n",
       "      <td>Mozilla/5.0 (Linux; Android 6.0.1; SGP771 Buil...</td>\n",
       "      <td>NaN</td>\n",
       "    </tr>\n",
       "    <tr>\n",
       "      <th>1</th>\n",
       "      <td>bc2c7502-bbad-0f8c-39c3-94e881967124</td>\n",
       "      <td>False</td>\n",
       "      <td>DGCQep2AE5QRkNCshIAlFQ==</td>\n",
       "      <td>SaamrHMo23l/3TwXOWgVzw==</td>\n",
       "      <td>mLVIVxoGY7TUDJ1FyFoSIZi1SFcaBmO01AydRchaEiGYtU...</td>\n",
       "      <td>False</td>\n",
       "      <td>xsd3ZdsI3356I3xMxZeiqQ==</td>\n",
       "      <td>rlWIXTBO+VOa34+SpGyhlQ==</td>\n",
       "      <td>NCqL3QBx0pscDnx3ixKwXg==</td>\n",
       "      <td>mLVIVxoGY7TUDJ1FyFoSIZi1SFcaBmO01AydRchaEiGYtU...</td>\n",
       "      <td>...</td>\n",
       "      <td>02:34:29</td>\n",
       "      <td>gmail.com</td>\n",
       "      <td>diocezio</td>\n",
       "      <td>(-19.687710705798963, -47.94151536525154)</td>\n",
       "      <td>Radio-commercial</td>\n",
       "      <td>251-3659293</td>\n",
       "      <td>BR-RS</td>\n",
       "      <td>{'tags': ['n6', 'n7', 'nim']}</td>\n",
       "      <td>Mozilla/5.0 (Linux; Android 5.0.2; SAMSUNG SM-...</td>\n",
       "      <td>NaN</td>\n",
       "    </tr>\n",
       "    <tr>\n",
       "      <th>2</th>\n",
       "      <td>669630dd-2e6a-0396-84bf-455e5009c922</td>\n",
       "      <td>True</td>\n",
       "      <td>DGCQep2AE5QRkNCshIAlFQ==</td>\n",
       "      <td>Fv28Bz0YRTVAT5kl1bAV6g==</td>\n",
       "      <td>mLVIVxoGY7TUDJ1FyFoSIZi1SFcaBmO01AydRchaEiGYtU...</td>\n",
       "      <td>NaN</td>\n",
       "      <td>Ygq6MsM98oC8yceExr69Ig==</td>\n",
       "      <td>PjTIDfJsK0DKL9fO7vuW2g==</td>\n",
       "      <td>NCqL3QBx0pscDnx3ixKwXg==</td>\n",
       "      <td>mLVIVxoGY7TUDJ1FyFoSIZi1SFcaBmO01AydRchaEiGYtU...</td>\n",
       "      <td>...</td>\n",
       "      <td>00:60:02</td>\n",
       "      <td>gmail.com</td>\n",
       "      <td>veralucia</td>\n",
       "      <td>(-28.748023890412284, -51.867279334353995)</td>\n",
       "      <td>Waiting-list</td>\n",
       "      <td>230-6097993</td>\n",
       "      <td>BR-RR</td>\n",
       "      <td>{'tags': ['n0', 'n17', 'nim', 'da']}</td>\n",
       "      <td>Mozilla/5.0 (Linux; Android 6.0.1; SGP771 Buil...</td>\n",
       "      <td>NaN</td>\n",
       "    </tr>\n",
       "    <tr>\n",
       "      <th>3</th>\n",
       "      <td>d235609e-b6cb-0ccc-a329-d4f12e7ebdc1</td>\n",
       "      <td>False</td>\n",
       "      <td>1Rk8w4Ucd5yR3KcqZzLdow==</td>\n",
       "      <td>dCm9hFKfdRm7ej3jW+gyxw==</td>\n",
       "      <td>mLVIVxoGY7TUDJ1FyFoSIZi1SFcaBmO01AydRchaEiGYtU...</td>\n",
       "      <td>False</td>\n",
       "      <td>KET/Pmr6rHp1RJ/P9ymztw==</td>\n",
       "      <td>Cc/kWDLQH3dpHv5HU+pLVA==</td>\n",
       "      <td>NCqL3QBx0pscDnx3ixKwXg==</td>\n",
       "      <td>mLVIVxoGY7TUDJ1FyFoSIZi1SFcaBmO01AydRchaEiE56f...</td>\n",
       "      <td>...</td>\n",
       "      <td>11:20:49</td>\n",
       "      <td>spgov.com</td>\n",
       "      <td>venice</td>\n",
       "      <td>(-17.520650158450454, -39.75801139933186)</td>\n",
       "      <td>Waiting-list</td>\n",
       "      <td>261-3543751</td>\n",
       "      <td>BR-RN</td>\n",
       "      <td>{'tags': ['n4']}</td>\n",
       "      <td>Mozilla/5.0 (Linux; Android 6.0; HTC One X10 B...</td>\n",
       "      <td>NaN</td>\n",
       "    </tr>\n",
       "  </tbody>\n",
       "</table>\n",
       "<p>4 rows × 21 columns</p>\n",
       "</div>"
      ],
      "text/plain": [
       "                                    ids target_default  \\\n",
       "0  343b7e7b-2cf8-e508-b8fd-0a0285af30aa          False   \n",
       "1  bc2c7502-bbad-0f8c-39c3-94e881967124          False   \n",
       "2  669630dd-2e6a-0396-84bf-455e5009c922           True   \n",
       "3  d235609e-b6cb-0ccc-a329-d4f12e7ebdc1          False   \n",
       "\n",
       "                    score_1                   score_2  \\\n",
       "0  1Rk8w4Ucd5yR3KcqZzLdow==  IOVu8au3ISbo6+zmfnYwMg==   \n",
       "1  DGCQep2AE5QRkNCshIAlFQ==  SaamrHMo23l/3TwXOWgVzw==   \n",
       "2  DGCQep2AE5QRkNCshIAlFQ==  Fv28Bz0YRTVAT5kl1bAV6g==   \n",
       "3  1Rk8w4Ucd5yR3KcqZzLdow==  dCm9hFKfdRm7ej3jW+gyxw==   \n",
       "\n",
       "                                              reason facebook_profile  \\\n",
       "0  mLVIVxoGY7TUDJ1FyFoSIZi1SFcaBmO01AydRchaEiGYtU...             True   \n",
       "1  mLVIVxoGY7TUDJ1FyFoSIZi1SFcaBmO01AydRchaEiGYtU...            False   \n",
       "2  mLVIVxoGY7TUDJ1FyFoSIZi1SFcaBmO01AydRchaEiGYtU...              NaN   \n",
       "3  mLVIVxoGY7TUDJ1FyFoSIZi1SFcaBmO01AydRchaEiGYtU...            False   \n",
       "\n",
       "                      state                       zip  \\\n",
       "0  sjJbkqJS7cXalHLBFA+EOQ==  Ernn+uVXCMq/6ARrBCcd+A==   \n",
       "1  xsd3ZdsI3356I3xMxZeiqQ==  rlWIXTBO+VOa34+SpGyhlQ==   \n",
       "2  Ygq6MsM98oC8yceExr69Ig==  PjTIDfJsK0DKL9fO7vuW2g==   \n",
       "3  KET/Pmr6rHp1RJ/P9ymztw==  Cc/kWDLQH3dpHv5HU+pLVA==   \n",
       "\n",
       "                    channel  \\\n",
       "0  NCqL3QBx0pscDnx3ixKwXg==   \n",
       "1  NCqL3QBx0pscDnx3ixKwXg==   \n",
       "2  NCqL3QBx0pscDnx3ixKwXg==   \n",
       "3  NCqL3QBx0pscDnx3ixKwXg==   \n",
       "\n",
       "                                            job_name  ...  \\\n",
       "0  mLVIVxoGY7TUDJ1FyFoSIZi1SFcaBmO01AydRchaEiGYtU...  ...   \n",
       "1  mLVIVxoGY7TUDJ1FyFoSIZi1SFcaBmO01AydRchaEiGYtU...  ...   \n",
       "2  mLVIVxoGY7TUDJ1FyFoSIZi1SFcaBmO01AydRchaEiGYtU...  ...   \n",
       "3  mLVIVxoGY7TUDJ1FyFoSIZi1SFcaBmO01AydRchaEiE56f...  ...   \n",
       "\n",
       "  application_time_applied        email external_data_provider_first_name  \\\n",
       "0                 07:52:34  outlook.com                        leidelaura   \n",
       "1                 02:34:29    gmail.com                          diocezio   \n",
       "2                 00:60:02    gmail.com                         veralucia   \n",
       "3                 11:20:49    spgov.com                            venice   \n",
       "\n",
       "                                      lat_lon marketing_channel  \\\n",
       "0    (-29.151545708122246, -51.1386461804385)      Invite-email   \n",
       "1   (-19.687710705798963, -47.94151536525154)  Radio-commercial   \n",
       "2  (-28.748023890412284, -51.867279334353995)      Waiting-list   \n",
       "3   (-17.520650158450454, -39.75801139933186)      Waiting-list   \n",
       "\n",
       "  profile_phone_number shipping_state                          profile_tags  \\\n",
       "0          514-9840782          BR-MT               {'tags': ['n19', 'n8']}   \n",
       "1          251-3659293          BR-RS         {'tags': ['n6', 'n7', 'nim']}   \n",
       "2          230-6097993          BR-RR  {'tags': ['n0', 'n17', 'nim', 'da']}   \n",
       "3          261-3543751          BR-RN                      {'tags': ['n4']}   \n",
       "\n",
       "                                          user_agent target_fraud  \n",
       "0  Mozilla/5.0 (Linux; Android 6.0.1; SGP771 Buil...          NaN  \n",
       "1  Mozilla/5.0 (Linux; Android 5.0.2; SAMSUNG SM-...          NaN  \n",
       "2  Mozilla/5.0 (Linux; Android 6.0.1; SGP771 Buil...          NaN  \n",
       "3  Mozilla/5.0 (Linux; Android 6.0; HTC One X10 B...          NaN  \n",
       "\n",
       "[4 rows x 21 columns]"
      ]
     },
     "execution_count": 656,
     "metadata": {},
     "output_type": "execute_result"
    }
   ],
   "source": [
    "df.select_dtypes(include='object').head(4)"
   ]
  },
  {
   "cell_type": "code",
   "execution_count": 657,
   "id": "8aa62a39",
   "metadata": {},
   "outputs": [
    {
     "data": {
      "text/plain": [
       "array(['outlook.com', 'gmail.com', 'spgov.com', 'hotmail.com',\n",
       "       'hotmaill.com', 'gmaill.com'], dtype=object)"
      ]
     },
     "execution_count": 657,
     "metadata": {},
     "output_type": "execute_result"
    }
   ],
   "source": [
    "df.email.unique()"
   ]
  },
  {
   "cell_type": "markdown",
   "id": "90ddb029",
   "metadata": {},
   "source": [
    "O que iremos tratar nas colunas categóricas:\n",
    "\n",
    "**email**: Há colunas com erro de digitação;<br>\n",
    "**shipping_state**: Vamos retirar o BR e ficar somente com as siglas dos estados;<br>\n",
    "**lat_lon**: Separar LAT e LON em duas colunas distintas;<br>\n",
    "**application_time_applied**: Retirar somente as horas;<br>\n",
    "\n",
    "O restante iremos transformar em variáveis dummies.\n"
   ]
  },
  {
   "cell_type": "markdown",
   "id": "247b9ed1",
   "metadata": {},
   "source": [
    "### - Verificando se os tipos de dados (dtypes) estão compatíveis"
   ]
  },
  {
   "cell_type": "code",
   "execution_count": 658,
   "id": "9ec53c15",
   "metadata": {},
   "outputs": [
    {
     "name": "stdout",
     "output_type": "stream",
     "text": [
      "ids                                                  object\n",
      "target_default                                       object\n",
      "score_1                                              object\n",
      "score_2                                              object\n",
      "score_3                                             float64\n",
      "score_4                                             float64\n",
      "score_5                                             float64\n",
      "score_6                                             float64\n",
      "risk_rate                                           float64\n",
      "last_amount_borrowed                                float64\n",
      "last_borrowed_in_months                             float64\n",
      "credit_limit                                        float64\n",
      "reason                                               object\n",
      "income                                              float64\n",
      "facebook_profile                                     object\n",
      "state                                                object\n",
      "zip                                                  object\n",
      "channel                                              object\n",
      "job_name                                             object\n",
      "real_state                                           object\n",
      "ok_since                                            float64\n",
      "n_bankruptcies                                      float64\n",
      "n_defaulted_loans                                   float64\n",
      "n_accounts                                          float64\n",
      "n_issues                                            float64\n",
      "application_time_applied                             object\n",
      "application_time_in_funnel                            int64\n",
      "email                                                object\n",
      "external_data_provider_credit_checks_last_2_year    float64\n",
      "external_data_provider_credit_checks_last_month       int64\n",
      "external_data_provider_credit_checks_last_year      float64\n",
      "external_data_provider_email_seen_before            float64\n",
      "external_data_provider_first_name                    object\n",
      "external_data_provider_fraud_score                    int64\n",
      "lat_lon                                              object\n",
      "marketing_channel                                    object\n",
      "profile_phone_number                                 object\n",
      "reported_income                                     float64\n",
      "shipping_state                                       object\n",
      "shipping_zip_code                                     int64\n",
      "profile_tags                                         object\n",
      "user_agent                                           object\n",
      "target_fraud                                         object\n",
      "dtype: object\n",
      "------------------------------------------------------------\n",
      "ids                                                              343b7e7b-2cf8-e508-b8fd-0a0285af30aa\n",
      "target_default                                                                                  False\n",
      "score_1                                                                      1Rk8w4Ucd5yR3KcqZzLdow==\n",
      "score_2                                                                      IOVu8au3ISbo6+zmfnYwMg==\n",
      "score_3                                                                                         350.0\n",
      "score_4                                                                                    101.800832\n",
      "score_5                                                                                      0.259555\n",
      "score_6                                                                                    108.427273\n",
      "risk_rate                                                                                         0.4\n",
      "last_amount_borrowed                                                                         25033.92\n",
      "last_borrowed_in_months                                                                          36.0\n",
      "credit_limit                                                                                      0.0\n",
      "reason                                              mLVIVxoGY7TUDJ1FyFoSIZi1SFcaBmO01AydRchaEiGYtU...\n",
      "income                                                                                       65014.12\n",
      "facebook_profile                                                                                 True\n",
      "state                                                                        sjJbkqJS7cXalHLBFA+EOQ==\n",
      "zip                                                                          Ernn+uVXCMq/6ARrBCcd+A==\n",
      "channel                                                                      NCqL3QBx0pscDnx3ixKwXg==\n",
      "job_name                                            mLVIVxoGY7TUDJ1FyFoSIZi1SFcaBmO01AydRchaEiGYtU...\n",
      "real_state                                                                   N5/CE7lSkAfB04hVFFwllw==\n",
      "ok_since                                                                                          NaN\n",
      "n_bankruptcies                                                                                    0.0\n",
      "n_defaulted_loans                                                                                 0.0\n",
      "n_accounts                                                                                       18.0\n",
      "n_issues                                                                                         18.0\n",
      "application_time_applied                                                                     07:52:34\n",
      "application_time_in_funnel                                                                        444\n",
      "email                                                                                     outlook.com\n",
      "external_data_provider_credit_checks_last_2_year                                                  NaN\n",
      "external_data_provider_credit_checks_last_month                                                     2\n",
      "external_data_provider_credit_checks_last_year                                                    0.0\n",
      "external_data_provider_email_seen_before                                                         51.0\n",
      "external_data_provider_first_name                                                          leidelaura\n",
      "external_data_provider_fraud_score                                                                645\n",
      "lat_lon                                                      (-29.151545708122246, -51.1386461804385)\n",
      "marketing_channel                                                                        Invite-email\n",
      "profile_phone_number                                                                      514-9840782\n",
      "reported_income                                                                               57849.0\n",
      "shipping_state                                                                                  BR-MT\n",
      "shipping_zip_code                                                                               17528\n",
      "profile_tags                                                                  {'tags': ['n19', 'n8']}\n",
      "user_agent                                          Mozilla/5.0 (Linux; Android 6.0.1; SGP771 Buil...\n",
      "target_fraud                                                                                      NaN\n",
      "Name: 0, dtype: object\n"
     ]
    }
   ],
   "source": [
    "# verificando os tipos de dados\n",
    "print(df.dtypes)\n",
    "print(\"---\"*20)\n",
    "# ver o primeiro dado de cada coluna pra conferir com os tipos de dados\n",
    "print(df.iloc[0])"
   ]
  },
  {
   "cell_type": "markdown",
   "id": "861a8a3b",
   "metadata": {},
   "source": [
    "#### OK! os tipos de dados batem, não erá necessária nenhuma conversão de dados."
   ]
  },
  {
   "cell_type": "markdown",
   "id": "1f508354",
   "metadata": {},
   "source": [
    "# Limpeza dos dados\n",
    "Vamos realizar inicialmente tudo que propomos na 'Análise Exploratória'"
   ]
  },
  {
   "cell_type": "markdown",
   "id": "8aed58d8",
   "metadata": {},
   "source": [
    "### - Removendo colunas"
   ]
  },
  {
   "cell_type": "code",
   "execution_count": 659,
   "id": "2ca43c09",
   "metadata": {},
   "outputs": [],
   "source": [
    "# Removendo colunas irrelevanes\n",
    "df = df.drop(irrelevantes, axis=1)"
   ]
  },
  {
   "cell_type": "code",
   "execution_count": 660,
   "id": "0fd69dfe",
   "metadata": {},
   "outputs": [],
   "source": [
    "# Removendo colunas com mais de 50% faltantes\n",
    "df = df.drop(muitos_faltantes, axis=1)"
   ]
  },
  {
   "cell_type": "markdown",
   "id": "c2963db7",
   "metadata": {},
   "source": [
    "### - Removendo valores inf"
   ]
  },
  {
   "cell_type": "code",
   "execution_count": 661,
   "id": "00b703d6",
   "metadata": {},
   "outputs": [],
   "source": [
    "# Removendo linhas INF da coluna 'reported_income'\n",
    "df = df[df['reported_income']!= np.inf]"
   ]
  },
  {
   "cell_type": "markdown",
   "id": "9606dd70",
   "metadata": {},
   "source": [
    "### - Corrigindo/alterando valores em linhas"
   ]
  },
  {
   "cell_type": "code",
   "execution_count": 662,
   "id": "ade1dc8a",
   "metadata": {},
   "outputs": [],
   "source": [
    "# Tratando a coluna com emails errados\n",
    "df.loc[df['email'] == 'hotmaill.com', 'email'] = 'hotmail.com'\n",
    "df.loc[df['email'] == 'gmaill.com', 'email'] = 'gmail.com'"
   ]
  },
  {
   "cell_type": "code",
   "execution_count": 663,
   "id": "2b659e8f",
   "metadata": {},
   "outputs": [],
   "source": [
    "# removendo BR da coluna 'df.shipping_state'\n",
    "df.shipping_state = df.shipping_state.str.replace(\"BR-\", \"\")"
   ]
  },
  {
   "cell_type": "code",
   "execution_count": 664,
   "id": "b15d01a7",
   "metadata": {},
   "outputs": [
    {
     "name": "stderr",
     "output_type": "stream",
     "text": [
      "C:\\Users\\devda\\AppData\\Local\\Temp\\ipykernel_15768\\2203726783.py:7: FutureWarning: The default value of regex will change from True to False in a future version. In addition, single character regular expressions will *not* be treated as literal strings when regex=True.\n",
      "  df['lat'] = df['lat_lon'].str.split(',').str[0].str.replace('(', '').astype(float)\n",
      "C:\\Users\\devda\\AppData\\Local\\Temp\\ipykernel_15768\\2203726783.py:8: FutureWarning: The default value of regex will change from True to False in a future version. In addition, single character regular expressions will *not* be treated as literal strings when regex=True.\n",
      "  df['lon'] = df['lat_lon'].str.split(',').str[1].str.replace(')', '').astype(float)\n"
     ]
    }
   ],
   "source": [
    "# Separar LAT e LON em duas colunas\n",
    "'''\n",
    "Traduçõo do código abaixo: Crie a col df['lat'] = na coluna LAT_LON, \n",
    "separe pela ',',no index 0, remova '(' e transforme o resultado em float.\n",
    "mesma coisa pra criar a coluna df['lon'].\n",
    "'''\n",
    "df['lat'] = df['lat_lon'].str.split(',').str[0].str.replace('(', '').astype(float)\n",
    "df['lon'] = df['lat_lon'].str.split(',').str[1].str.replace(')', '').astype(float)\n",
    "\n",
    "# Remova a coluna 'lat_lon'\n",
    "df = df.drop('lat_lon', axis=1)"
   ]
  },
  {
   "cell_type": "code",
   "execution_count": 665,
   "id": "2094bdbb",
   "metadata": {},
   "outputs": [],
   "source": [
    "# Retirar as horas da coluna 'application_time_applied'\n",
    "'''\n",
    "Explicando: crie a coluna hora_default = df.'aplli.applied' pegue as 2 strings converta para inteiro\n",
    "'''\n",
    "df['hora_default'] = df['application_time_applied'].str[:2].astype(int)\n",
    "# substituindo hora 24 por 0h\n",
    "df.loc[df['hora_default'] == 24, 'hora_default'] = 0\n",
    "# Removendo coluna 'application_time_applied'\n",
    "df = df.drop('application_time_applied', axis=1)"
   ]
  },
  {
   "cell_type": "markdown",
   "id": "b457748c",
   "metadata": {},
   "source": [
    "### - Tratando colunas profile tags\n",
    "    - Uma das colunas críticas é a coluna 'profile_tags', ela possui muitos caracteres especiais, vamos separa-las para depois transforma-la em variáveis dummies."
   ]
  },
  {
   "cell_type": "code",
   "execution_count": 666,
   "id": "540a615c",
   "metadata": {},
   "outputs": [
    {
     "name": "stderr",
     "output_type": "stream",
     "text": [
      "C:\\Users\\devda\\AppData\\Local\\Temp\\ipykernel_15768\\1937116933.py:3: FutureWarning: The default value of regex will change from True to False in a future version. In addition, single character regular expressions will *not* be treated as literal strings when regex=True.\n",
      "  df['profile_tags'] = df['profile_tags'].str.replace(caracter, \"\")\n"
     ]
    }
   ],
   "source": [
    "# para cada caracter substitua por \"vazio\"\n",
    "for caracter in \"{}[]:,'\":\n",
    "    df['profile_tags'] = df['profile_tags'].str.replace(caracter, \"\")\n",
    "# substitua \"tags\" ´por \"vazio\"    \n",
    "df['profile_tags'] = df['profile_tags'].str.replace('tags', \"\")"
   ]
  },
  {
   "cell_type": "code",
   "execution_count": 667,
   "id": "3f4519bc",
   "metadata": {},
   "outputs": [
    {
     "data": {
      "text/html": [
       "<div>\n",
       "<style scoped>\n",
       "    .dataframe tbody tr th:only-of-type {\n",
       "        vertical-align: middle;\n",
       "    }\n",
       "\n",
       "    .dataframe tbody tr th {\n",
       "        vertical-align: top;\n",
       "    }\n",
       "\n",
       "    .dataframe thead th {\n",
       "        text-align: right;\n",
       "    }\n",
       "</style>\n",
       "<table border=\"1\" class=\"dataframe\">\n",
       "  <thead>\n",
       "    <tr style=\"text-align: right;\">\n",
       "      <th></th>\n",
       "      <th>target_default</th>\n",
       "      <th>facebook_profile</th>\n",
       "      <th>email</th>\n",
       "      <th>marketing_channel</th>\n",
       "      <th>shipping_state</th>\n",
       "      <th>profile_tags</th>\n",
       "    </tr>\n",
       "  </thead>\n",
       "  <tbody>\n",
       "    <tr>\n",
       "      <th>0</th>\n",
       "      <td>False</td>\n",
       "      <td>True</td>\n",
       "      <td>outlook.com</td>\n",
       "      <td>Invite-email</td>\n",
       "      <td>MT</td>\n",
       "      <td>n19 n8</td>\n",
       "    </tr>\n",
       "    <tr>\n",
       "      <th>1</th>\n",
       "      <td>False</td>\n",
       "      <td>False</td>\n",
       "      <td>gmail.com</td>\n",
       "      <td>Radio-commercial</td>\n",
       "      <td>RS</td>\n",
       "      <td>n6 n7 nim</td>\n",
       "    </tr>\n",
       "    <tr>\n",
       "      <th>2</th>\n",
       "      <td>True</td>\n",
       "      <td>NaN</td>\n",
       "      <td>gmail.com</td>\n",
       "      <td>Waiting-list</td>\n",
       "      <td>RR</td>\n",
       "      <td>n0 n17 nim da</td>\n",
       "    </tr>\n",
       "    <tr>\n",
       "      <th>3</th>\n",
       "      <td>False</td>\n",
       "      <td>False</td>\n",
       "      <td>spgov.com</td>\n",
       "      <td>Waiting-list</td>\n",
       "      <td>RN</td>\n",
       "      <td>n4</td>\n",
       "    </tr>\n",
       "  </tbody>\n",
       "</table>\n",
       "</div>"
      ],
      "text/plain": [
       "  target_default facebook_profile        email marketing_channel  \\\n",
       "0          False             True  outlook.com      Invite-email   \n",
       "1          False            False    gmail.com  Radio-commercial   \n",
       "2           True              NaN    gmail.com      Waiting-list   \n",
       "3          False            False    spgov.com      Waiting-list   \n",
       "\n",
       "  shipping_state    profile_tags  \n",
       "0             MT          n19 n8  \n",
       "1             RS       n6 n7 nim  \n",
       "2             RR   n0 n17 nim da  \n",
       "3             RN              n4  "
      ]
     },
     "execution_count": 667,
     "metadata": {},
     "output_type": "execute_result"
    }
   ],
   "source": [
    "df.select_dtypes(include='object').head(4)"
   ]
  },
  {
   "cell_type": "markdown",
   "id": "18a2b005",
   "metadata": {},
   "source": [
    "### - Tratando cuidadosamente dados faltantes \n",
    "Vamos tratar cuidadosamente dados faltantes para evitar perda de dados, aqui será empregado algumas técnicas dependendo da coluna, seja eliminando desde que o tipo de dados não compense preencher com dados fictícios, seja preenchando pela média, moda ou médiana ou até mesmo por maior proporcionalidade."
   ]
  },
  {
   "cell_type": "code",
   "execution_count": 668,
   "id": "c8db36bc",
   "metadata": {},
   "outputs": [
    {
     "data": {
      "text/plain": [
       "external_data_provider_credit_checks_last_year     15108\n",
       "credit_limit                                       13780\n",
       "n_issues                                           11525\n",
       "facebook_profile                                    4456\n",
       "marketing_channel                                   3571\n",
       "target_default                                      3258\n",
       "external_data_provider_email_seen_before            2231\n",
       "lon                                                 1362\n",
       "lat                                                 1362\n",
       "n_bankruptcies                                       697\n",
       "n_defaulted_loans                                    574\n",
       "n_accounts                                           562\n",
       "income                                               562\n",
       "score_3                                              562\n",
       "risk_rate                                            562\n",
       "shipping_zip_code                                      0\n",
       "shipping_state                                         0\n",
       "profile_tags                                           0\n",
       "reported_income                                        0\n",
       "application_time_in_funnel                             0\n",
       "external_data_provider_fraud_score                     0\n",
       "external_data_provider_credit_checks_last_month        0\n",
       "email                                                  0\n",
       "score_6                                                0\n",
       "score_5                                                0\n",
       "score_4                                                0\n",
       "hora_default                                           0\n",
       "dtype: int64"
      ]
     },
     "execution_count": 668,
     "metadata": {},
     "output_type": "execute_result"
    }
   ],
   "source": [
    "df.isnull().sum().sort_values(ascending=False)"
   ]
  },
  {
   "cell_type": "markdown",
   "id": "2e3ae121",
   "metadata": {},
   "source": [
    "#### * Coluna \"external_data_provider_credit_checks_last_year\""
   ]
  },
  {
   "cell_type": "code",
   "execution_count": 669,
   "id": "cbe73ab9",
   "metadata": {},
   "outputs": [
    {
     "data": {
      "text/plain": [
       "1.0    15008\n",
       "0.0    14817\n",
       "Name: external_data_provider_credit_checks_last_year, dtype: int64"
      ]
     },
     "execution_count": 669,
     "metadata": {},
     "output_type": "execute_result"
    }
   ],
   "source": [
    "df[\"external_data_provider_credit_checks_last_year\"].value_counts()"
   ]
  },
  {
   "cell_type": "markdown",
   "id": "f1657cc6",
   "metadata": {},
   "source": [
    "**external_data_provider_credit_checks_last_year**:\n",
    "São 15mil dados faltantes, não vale a pena descartar tanta informação, como a coluna trata-se de verificação de crédito no último ano, o mais sensato é preencher com 'zero' (minoria), melhor informar que não sabemos se foi feita a verificação do que afirmar que foi verificado, nesse caso proporcionalidade não funciona pois proporcionalmente valor 1 é maior.\n"
   ]
  },
  {
   "cell_type": "code",
   "execution_count": 670,
   "id": "923d2eeb",
   "metadata": {},
   "outputs": [],
   "source": [
    "# Preenchando valores faltantes na coluna external_data_provider_credit_checks_last_year com \"zero\"\n",
    "df.loc[df.external_data_provider_credit_checks_last_year.isnull(), 'external_data_provider_credit_checks_last_year'] = 0"
   ]
  },
  {
   "cell_type": "markdown",
   "id": "f05199c4",
   "metadata": {},
   "source": [
    "#### * Coluna 'credit_limit'"
   ]
  },
  {
   "cell_type": "code",
   "execution_count": 671,
   "id": "e392d885",
   "metadata": {},
   "outputs": [
    {
     "data": {
      "text/plain": [
       "(5264,)"
      ]
     },
     "execution_count": 671,
     "metadata": {},
     "output_type": "execute_result"
    }
   ],
   "source": [
    "df.loc[df.credit_limit == 0, 'credit_limit'].shape"
   ]
  },
  {
   "cell_type": "markdown",
   "id": "580f2c2e",
   "metadata": {},
   "source": [
    "**credit_limit**\n",
    "Essa coluna possui 13 mil linhas faltantes e 5 mil com 0 de crédito, se preenchermos os 13 mil com zero, ficaremos com 18 mil com crédito zero, quase a metade, porém nosso modelo vai poder análisar o risco de quem tem crédito e de quem não tem de forma justa (metade e metade), acho mais sensato preencher com zeros e não perder 13 mil linhas de dados."
   ]
  },
  {
   "cell_type": "code",
   "execution_count": 672,
   "id": "42b51b85",
   "metadata": {},
   "outputs": [],
   "source": [
    "# Preenchando valores faltantes na coluna 'credit_limit' com \"zero\"\n",
    "df.loc[df.credit_limit.isnull(), 'credit_limit'] = 0"
   ]
  },
  {
   "cell_type": "markdown",
   "id": "7adf282c",
   "metadata": {},
   "source": [
    "#### * Coluna 'n_issues' e 'n_accounts'"
   ]
  },
  {
   "cell_type": "code",
   "execution_count": 673,
   "id": "09ba8238",
   "metadata": {},
   "outputs": [
    {
     "data": {
      "image/png": "[encoded data removed]",
      "text/plain": [
       "<Figure size 432x288 with 1 Axes>"
      ]
     },
     "metadata": {
      "needs_background": "light"
     },
     "output_type": "display_data"
    }
   ],
   "source": [
    "sns.scatterplot(x='n_issues', y='n_accounts', data=df)\n",
    "plt.show()"
   ]
  },
  {
   "cell_type": "markdown",
   "id": "0152f78f",
   "metadata": {},
   "source": [
    "Notei que a coluna \"n_issues\" e \"n_accounts\" estão fortemente correlacionadas, as duas apresentam em sua maioria os mesmos dados, então cheguei a conclusão que é melhor excluir a coluna \"n_issues\" que apresenta 11 mil linhas de dados faltantes, do que excluir estas linhas e perder todos esses dados já que a coluna \"n_accounts\" tem praticamente as mesmas informações, sendo assim, excluirei somente as 562 linhas de dados faltantes da coluna \"n_accounts\" preservando os dados."
   ]
  },
  {
   "cell_type": "code",
   "execution_count": 674,
   "id": "f5dd2a37",
   "metadata": {},
   "outputs": [],
   "source": [
    "# excluindo coluna 'n_issues'\n",
    "df = df.drop('n_issues', axis=1)\n",
    "# excluindo linhas faltantes da coluna \"n_accounts\"\n",
    "df.dropna(subset=['n_accounts'], inplace=True)"
   ]
  },
  {
   "cell_type": "markdown",
   "id": "31812768",
   "metadata": {},
   "source": [
    "#### * n_defaulted_loans"
   ]
  },
  {
   "cell_type": "code",
   "execution_count": 675,
   "id": "a27671e2",
   "metadata": {
    "scrolled": true
   },
   "outputs": [
    {
     "data": {
      "text/plain": [
       "0.0    44185\n",
       "1.0      152\n",
       "2.0       17\n",
       "3.0        4\n",
       "5.0        1\n",
       "Name: n_defaulted_loans, dtype: int64"
      ]
     },
     "execution_count": 675,
     "metadata": {},
     "output_type": "execute_result"
    }
   ],
   "source": [
    "df.n_defaulted_loans.value_counts()"
   ]
  },
  {
   "cell_type": "markdown",
   "id": "ca036197",
   "metadata": {},
   "source": [
    "Verifiquei que a coluna n_defaulted_loans possuem 98% de valores \"0\", ou seja, não acrescenta em nada na nossa análise, iremos exclui-la."
   ]
  },
  {
   "cell_type": "code",
   "execution_count": 676,
   "id": "9e40b5e6",
   "metadata": {},
   "outputs": [],
   "source": [
    "df = df.drop('n_defaulted_loans', axis=1)"
   ]
  },
  {
   "cell_type": "markdown",
   "id": "747e5234",
   "metadata": {},
   "source": [
    "#### * Colunas restantes"
   ]
  },
  {
   "cell_type": "markdown",
   "id": "fbeb9427",
   "metadata": {},
   "source": [
    "Sobraram poucas colunas com poucos dados faltantes, na ordem máxima de de 4 mil, destas não é aconselhavel preencher com media, moda ou mediana, nem criar dados fictícios, melhor preservar a idoneidade dos dados diante de tão pouco dados faltantes num universo de 44 mil linhas, então iremos ecluir estas linhas.\n",
    "\n",
    "Uma dica que deixo registrada a quem esta lendo essa análise é, sempre deixe pra excluir linhas faltantes por último, primeiro analise as colunas que podem ser excluídas pois linhas excluida de uma coluna implica em exclusão de dados das outras colunas também acarretando perda de dados desnecessárias."
   ]
  },
  {
   "cell_type": "code",
   "execution_count": 677,
   "id": "03185505",
   "metadata": {},
   "outputs": [],
   "source": [
    "faltantes = ['facebook_profile', 'marketing_channel','target_default',\n",
    "             'external_data_provider_email_seen_before', 'lon', 'lat',\n",
    "             'n_bankruptcies']\n",
    "\n",
    "# Excluindo dados faltantes das colunas restantes\n",
    "for col in faltantes:\n",
    "    df.dropna(subset=[col], inplace=True)"
   ]
  },
  {
   "cell_type": "code",
   "execution_count": 678,
   "id": "bb47b56c",
   "metadata": {},
   "outputs": [
    {
     "data": {
      "text/plain": [
       "target_default                                     0\n",
       "score_3                                            0\n",
       "score_4                                            0\n",
       "score_5                                            0\n",
       "score_6                                            0\n",
       "risk_rate                                          0\n",
       "credit_limit                                       0\n",
       "income                                             0\n",
       "facebook_profile                                   0\n",
       "n_bankruptcies                                     0\n",
       "n_accounts                                         0\n",
       "application_time_in_funnel                         0\n",
       "email                                              0\n",
       "external_data_provider_credit_checks_last_month    0\n",
       "external_data_provider_credit_checks_last_year     0\n",
       "external_data_provider_email_seen_before           0\n",
       "external_data_provider_fraud_score                 0\n",
       "marketing_channel                                  0\n",
       "reported_income                                    0\n",
       "shipping_state                                     0\n",
       "shipping_zip_code                                  0\n",
       "profile_tags                                       0\n",
       "lat                                                0\n",
       "lon                                                0\n",
       "hora_default                                       0\n",
       "dtype: int64"
      ]
     },
     "execution_count": 678,
     "metadata": {},
     "output_type": "execute_result"
    }
   ],
   "source": [
    "# Agora estamos com nossa tabela limpa!\n",
    "df.isnull().sum()"
   ]
  },
  {
   "cell_type": "markdown",
   "id": "3f551e3a",
   "metadata": {},
   "source": [
    "# Análise exploratória"
   ]
  },
  {
   "cell_type": "markdown",
   "id": "61a69dc4",
   "metadata": {},
   "source": [
    "### - Funções (Gráficas e IRQ - Quartis)"
   ]
  },
  {
   "cell_type": "code",
   "execution_count": 679,
   "id": "787b514d",
   "metadata": {},
   "outputs": [],
   "source": [
    "# Função que calcula limites inferiores e superiores dos outliers\n",
    "def limites(col):\n",
    "    q1= col.quantile(0.25)\n",
    "    q3= col.quantile(0.75)\n",
    "    amplitude = q3 - q1\n",
    "    lim_inferior = q1 - 1.5 * amplitude\n",
    "    lim_superior = q3 + 1.5 * amplitude\n",
    "    return lim_inferior, lim_superior"
   ]
  },
  {
   "cell_type": "code",
   "execution_count": 680,
   "id": "1e8aaf84",
   "metadata": {},
   "outputs": [],
   "source": [
    "# Função para remover outliers\n",
    "def remover_outliers(df, nome_col):\n",
    "    \n",
    "    # pega a qnt de linhas da tabela\n",
    "    qnt_linhas_anteriores = df.shape[0]\n",
    "\n",
    "    # pega os limites inferior e superior\n",
    "    lim_inf, lim_sup = limites(df[nome_col])\n",
    "    \n",
    "    # filtra para o dataframe somente os valores dentro dos limites\n",
    "    df = df.loc[(df[nome_col] >= lim_inf) & (df[nome_col] <= lim_sup), :]\n",
    "    \n",
    "    # pega a quantidade de linhas removidas e sua porcentagem referente ao df\n",
    "    linhas_removidas = qnt_linhas_anteriores - df.shape[0]\n",
    "    porc_linhas_remov = (linhas_removidas/qnt_linhas_anteriores)\n",
    "\n",
    "    # Retona df filtrado, linhas removidas e a porcentagem de linhas removidas\n",
    "    return df, linhas_removidas, porc_linhas_remov"
   ]
  },
  {
   "cell_type": "code",
   "execution_count": 681,
   "id": "ccc64fa6",
   "metadata": {},
   "outputs": [],
   "source": [
    "def diagrama_caixa(coluna):\n",
    "    # define um grafico do lado do outro 1 linha 2 colunas(plt do matplotlib)\n",
    "    # ax1 = eixo do 1º grafico e ax2 do segundo.\n",
    "    fig, (ax1, ax2) = plt.subplots(1, 2) \n",
    "    \n",
    "    # seta tamanho do grafico\n",
    "    fig.set_size_inches(15,5) \n",
    "    \n",
    "    # cria grafico automático com os valores da coluna recebida\n",
    "    sns.boxplot(x=coluna, ax = ax1)\n",
    "    \n",
    "    # cria grafico automático com os valores da coluna recebida\n",
    "    # com a diferença que ax2 vai ficar entre os limites inferior e superior\n",
    "    # então chamamos a função \"limites\"\n",
    "    ax2.set_xlim(limites(coluna))\n",
    "    sns.boxplot(x=coluna, ax = ax2)"
   ]
  },
  {
   "cell_type": "code",
   "execution_count": 682,
   "id": "8fdc778a",
   "metadata": {},
   "outputs": [],
   "source": [
    "def histograma(coluna):\n",
    "    sns.displot(data=coluna, kde=True, height=3, aspect=2)"
   ]
  },
  {
   "cell_type": "code",
   "execution_count": 683,
   "id": "0ba2e3c6",
   "metadata": {},
   "outputs": [],
   "source": [
    "def relação_entre_2_colunas(tabela, col1, col2, ordem):\n",
    "    ''' Função que faz a relação de impacto de uma coluna (col1) sobre a outra \n",
    "        (col2) de uma (tabela)\n",
    "        Em suma agrupamos uma coluna e fazemos a média da outra em relação a ela mesmo.\n",
    "        ordem = por index = 'ind' ou ordenar por valor = 'val'\n",
    "        \n",
    "        EXEMPLO: Imagine uma tabela de \"crimes\", nela temos 2 colunas \"hora\" e \"numero de assaltos\", \n",
    "        a função agrupa por \"hora\" e faz a média do \"numero de assalto\" a cada hora\n",
    "    '''\n",
    "    fig, ax = plt.subplots(figsize=(10,6))\n",
    "    # agrupa na tabela grouped pela (col1) e faz a média da (col2) ordenado por valor ou por index\n",
    "    group = tabela.groupby(col1).mean()\n",
    "    # ordena por valor da coluna\n",
    "    if ordem == 'val':\n",
    "        grouped = group[col2].sort_values(ascending=False)\n",
    "    # Ordena pelo index da coluna\n",
    "    if ordem == 'ind':\n",
    "        grouped = group[col2].sort_index()\n",
    "    \n",
    "    ax.bar(grouped.index, grouped, color='lightgreen')\n",
    "    ax.grid(False)\n",
    "    ax.set_xlabel('')\n",
    "    ax.set_xticklabels(grouped.index, rotation=90)\n",
    "    ax.set_xticks(range(0, 25))\n",
    "    ax.tick_params(colors='grey')\n",
    "    ax.set_title(f'Impacto de {col1} sobre {col2}', fontsize=14, alpha=0.6)\n",
    "\n",
    "    plt.tight_layout()"
   ]
  },
  {
   "cell_type": "markdown",
   "id": "50b5ae8d",
   "metadata": {},
   "source": [
    "### - Tratamento de outliers"
   ]
  },
  {
   "cell_type": "code",
   "execution_count": 684,
   "id": "9a3a061b",
   "metadata": {},
   "outputs": [
    {
     "name": "stderr",
     "output_type": "stream",
     "text": [
      "C:\\Users\\devda\\AppData\\Local\\Temp\\ipykernel_15768\\347960219.py:15: UserWarning: Attempting to set identical left == right == 0.0 results in singular transformations; automatically expanding.\n",
      "  ax2.set_xlim(limites(coluna))\n"
     ]
    },
    {
     "data": {
      "image/png": "[encoded data removed]",
      "text/plain": [
       "<Figure size 1080x360 with 2 Axes>"
      ]
     },
     "metadata": {
      "needs_background": "light"
     },
     "output_type": "display_data"
    },
    {
     "data": {
      "image/png": "[encoded data removed]",
      "text/plain": [
       "<Figure size 1080x360 with 2 Axes>"
      ]
     },
     "metadata": {
      "needs_background": "light"
     },
     "output_type": "display_data"
    },
    {
     "data": {
      "image/png": "[encoded data removed]",
      "text/plain": [
       "<Figure size 1080x360 with 2 Axes>"
      ]
     },
     "metadata": {
      "needs_background": "light"
     },
     "output_type": "display_data"
    },
    {
     "data": {
      "image/png": "[encoded data removed]",
      "text/plain": [
       "<Figure size 1080x360 with 2 Axes>"
      ]
     },
     "metadata": {
      "needs_background": "light"
     },
     "output_type": "display_data"
    },
    {
     "data": {
      "image/png": "[encoded data removed]",
      "text/plain": [
       "<Figure size 1080x360 with 2 Axes>"
      ]
     },
     "metadata": {
      "needs_background": "light"
     },
     "output_type": "display_data"
    },
    {
     "data": {
      "image/png": "[encoded data removed]",
      "text/plain": [
       "<Figure size 1080x360 with 2 Axes>"
      ]
     },
     "metadata": {
      "needs_background": "light"
     },
     "output_type": "display_data"
    },
    {
     "data": {
      "image/png": "[encoded data removed]",
      "text/plain": [
       "<Figure size 1080x360 with 2 Axes>"
      ]
     },
     "metadata": {
      "needs_background": "light"
     },
     "output_type": "display_data"
    },
    {
     "data": {
      "image/png": "[encoded data removed]",
      "text/plain": [
       "<Figure size 1080x360 with 2 Axes>"
      ]
     },
     "metadata": {
      "needs_background": "light"
     },
     "output_type": "display_data"
    },
    {
     "data": {
      "image/png": "[encoded data removed]",
      "text/plain": [
       "<Figure size 1080x360 with 2 Axes>"
      ]
     },
     "metadata": {
      "needs_background": "light"
     },
     "output_type": "display_data"
    },
    {
     "data": {
      "image/png": "[encoded data removed]",
      "text/plain": [
       "<Figure size 1080x360 with 2 Axes>"
      ]
     },
     "metadata": {
      "needs_background": "light"
     },
     "output_type": "display_data"
    },
    {
     "data": {
      "image/png": "[encoded data removed]",
      "text/plain": [
       "<Figure size 1080x360 with 2 Axes>"
      ]
     },
     "metadata": {
      "needs_background": "light"
     },
     "output_type": "display_data"
    },
    {
     "data": {
      "image/png": "[encoded data removed]",
      "text/plain": [
       "<Figure size 1080x360 with 2 Axes>"
      ]
     },
     "metadata": {
      "needs_background": "light"
     },
     "output_type": "display_data"
    },
    {
     "data": {
      "image/png": "[encoded data removed]",
      "text/plain": [
       "<Figure size 1080x360 with 2 Axes>"
      ]
     },
     "metadata": {
      "needs_background": "light"
     },
     "output_type": "display_data"
    },
    {
     "data": {
      "image/png": "[encoded data removed]",
      "text/plain": [
       "<Figure size 1080x360 with 2 Axes>"
      ]
     },
     "metadata": {
      "needs_background": "light"
     },
     "output_type": "display_data"
    },
    {
     "data": {
      "image/png": "[encoded data removed]",
      "text/plain": [
       "<Figure size 1080x360 with 2 Axes>"
      ]
     },
     "metadata": {
      "needs_background": "light"
     },
     "output_type": "display_data"
    },
    {
     "data": {
      "image/png": "[encoded data removed]",
      "text/plain": [
       "<Figure size 1080x360 with 2 Axes>"
      ]
     },
     "metadata": {
      "needs_background": "light"
     },
     "output_type": "display_data"
    },
    {
     "data": {
      "image/png": "[encoded data removed]",
      "text/plain": [
       "<Figure size 1080x360 with 2 Axes>"
      ]
     },
     "metadata": {
      "needs_background": "light"
     },
     "output_type": "display_data"
    },
    {
     "data": {
      "image/png": "[encoded data removed]",
      "text/plain": [
       "<Figure size 1080x360 with 2 Axes>"
      ]
     },
     "metadata": {
      "needs_background": "light"
     },
     "output_type": "display_data"
    },
    {
     "data": {
      "image/png": "[encoded data removed]",
      "text/plain": [
       "<Figure size 1080x360 with 2 Axes>"
      ]
     },
     "metadata": {
      "needs_background": "light"
     },
     "output_type": "display_data"
    }
   ],
   "source": [
    "# PLotando todas as colunas numéricas\n",
    "for col in df.columns:\n",
    "    # Somente para colunas não categóricas\n",
    "    if df[col].dtypes != \"object\":\n",
    "        diagrama_caixa(df[col])"
   ]
  },
  {
   "cell_type": "code",
   "execution_count": 685,
   "id": "5f0bf7b3",
   "metadata": {},
   "outputs": [
    {
     "data": {
      "text/plain": [
       "0.0    29322\n",
       "1.0     2353\n",
       "2.0       29\n",
       "3.0        5\n",
       "4.0        2\n",
       "5.0        1\n",
       "Name: n_bankruptcies, dtype: int64"
      ]
     },
     "execution_count": 685,
     "metadata": {},
     "output_type": "execute_result"
    }
   ],
   "source": [
    "df.n_bankruptcies.value_counts()"
   ]
  },
  {
   "cell_type": "markdown",
   "id": "72ba0132",
   "metadata": {},
   "source": [
    "**Vamos remover outliers das colunas:**\n",
    "\n",
    "remov_outliers = ['score_3', 'score_4', 'score_5', 'score_6', 'risk_rate', 'credit_limit', 'income',\n",
    "               'n_accounts', 'application_time_in_funnel', 'external_data_provider_credit_checks_last_month',\n",
    "               'external_data_provider_credit_checks_last_year', 'external_data_provider_email_seen_before',\n",
    "               'external_data_provider_fraud_score', 'reported_income', 'shipping_zip_code']\n",
    "\n",
    "**Não vamos remover outliers das colunas:**\n",
    "\n",
    "**n_bankruptcies:** As outliers não são excessões, e neste caso os outliers podem sim influenciar em casos de fraudes.<br>\n"
   ]
  },
  {
   "cell_type": "markdown",
   "id": "720b7273",
   "metadata": {},
   "source": [
    "### - Removendo outliers das colunas analisadas"
   ]
  },
  {
   "cell_type": "code",
   "execution_count": 686,
   "id": "64a1d052",
   "metadata": {},
   "outputs": [
    {
     "name": "stdout",
     "output_type": "stream",
     "text": [
      "score_3: 231 linhas excluidas, equivalem a 0.73% do df\n",
      "score_4: 228 linhas excluidas, equivalem a 0.72% do df\n",
      "score_5: 0 linhas excluidas, equivalem a 0.00% do df\n",
      "score_6: 212 linhas excluidas, equivalem a 0.68% do df\n",
      "risk_rate: 275 linhas excluidas, equivalem a 0.89% do df\n",
      "credit_limit: 1433 linhas excluidas, equivalem a 4.66% do df\n",
      "income: 1151 linhas excluidas, equivalem a 3.92% do df\n",
      "n_accounts: 383 linhas excluidas, equivalem a 1.36% do df\n",
      "application_time_in_funnel: 0 linhas excluidas, equivalem a 0.00% do df\n",
      "external_data_provider_credit_checks_last_month: 0 linhas excluidas, equivalem a 0.00% do df\n",
      "external_data_provider_credit_checks_last_year: 0 linhas excluidas, equivalem a 0.00% do df\n",
      "external_data_provider_email_seen_before: 420 linhas excluidas, equivalem a 1.51% do df\n",
      "external_data_provider_fraud_score: 0 linhas excluidas, equivalem a 0.00% do df\n",
      "reported_income: 211 linhas excluidas, equivalem a 0.77% do df\n",
      "shipping_zip_code: 0 linhas excluidas, equivalem a 0.00% do df\n"
     ]
    },
    {
     "data": {
      "image/png": "[encoded data removed]",
      "text/plain": [
       "<Figure size 432x216 with 1 Axes>"
      ]
     },
     "metadata": {
      "needs_background": "light"
     },
     "output_type": "display_data"
    },
    {
     "data": {
      "image/png": "[encoded data removed]",
      "text/plain": [
       "<Figure size 432x216 with 1 Axes>"
      ]
     },
     "metadata": {
      "needs_background": "light"
     },
     "output_type": "display_data"
    },
    {
     "data": {
      "image/png": "[encoded data removed]",
      "text/plain": [
       "<Figure size 432x216 with 1 Axes>"
      ]
     },
     "metadata": {
      "needs_background": "light"
     },
     "output_type": "display_data"
    },
    {
     "data": {
      "image/png": "[encoded data removed]",
      "text/plain": [
       "<Figure size 432x216 with 1 Axes>"
      ]
     },
     "metadata": {
      "needs_background": "light"
     },
     "output_type": "display_data"
    },
    {
     "data": {
      "image/png": "[encoded data removed]",
      "text/plain": [
       "<Figure size 432x216 with 1 Axes>"
      ]
     },
     "metadata": {
      "needs_background": "light"
     },
     "output_type": "display_data"
    },
    {
     "data": {
      "image/png": "[encoded data removed]",
      "text/plain": [
       "<Figure size 432x216 with 1 Axes>"
      ]
     },
     "metadata": {
      "needs_background": "light"
     },
     "output_type": "display_data"
    },
    {
     "data": {
      "image/png": "[encoded data removed]",
      "text/plain": [
       "<Figure size 432x216 with 1 Axes>"
      ]
     },
     "metadata": {
      "needs_background": "light"
     },
     "output_type": "display_data"
    },
    {
     "data": {
      "image/png": "[encoded data removed]",
      "text/plain": [
       "<Figure size 432x216 with 1 Axes>"
      ]
     },
     "metadata": {
      "needs_background": "light"
     },
     "output_type": "display_data"
    },
    {
     "data": {
      "image/png": "[encoded data removed]",
      "text/plain": [
       "<Figure size 432x216 with 1 Axes>"
      ]
     },
     "metadata": {
      "needs_background": "light"
     },
     "output_type": "display_data"
    },
    {
     "data": {
      "image/png": "[encoded data removed]",
      "text/plain": [
       "<Figure size 432x216 with 1 Axes>"
      ]
     },
     "metadata": {
      "needs_background": "light"
     },
     "output_type": "display_data"
    },
    {
     "data": {
      "image/png": "[encoded data removed]",
      "text/plain": [
       "<Figure size 432x216 with 1 Axes>"
      ]
     },
     "metadata": {
      "needs_background": "light"
     },
     "output_type": "display_data"
    },
    {
     "data": {
      "image/png": "[encoded data removed]",
      "text/plain": [
       "<Figure size 432x216 with 1 Axes>"
      ]
     },
     "metadata": {
      "needs_background": "light"
     },
     "output_type": "display_data"
    },
    {
     "data": {
      "image/png": "[encoded data removed]",
      "text/plain": [
       "<Figure size 432x216 with 1 Axes>"
      ]
     },
     "metadata": {
      "needs_background": "light"
     },
     "output_type": "display_data"
    },
    {
     "data": {
      "image/png": "[encoded data removed]",
      "text/plain": [
       "<Figure size 432x216 with 1 Axes>"
      ]
     },
     "metadata": {
      "needs_background": "light"
     },
     "output_type": "display_data"
    },
    {
     "data": {
      "image/png": "[encoded data removed]",
      "text/plain": [
       "<Figure size 432x216 with 1 Axes>"
      ]
     },
     "metadata": {
      "needs_background": "light"
     },
     "output_type": "display_data"
    }
   ],
   "source": [
    "# lista de coluna para remover\n",
    "remov_outliers = ['score_3', 'score_4', 'score_5', 'score_6', 'risk_rate', 'credit_limit', 'income',\n",
    "               'n_accounts', 'application_time_in_funnel', 'external_data_provider_credit_checks_last_month',\n",
    "               'external_data_provider_credit_checks_last_year', 'external_data_provider_email_seen_before',\n",
    "               'external_data_provider_fraud_score', 'reported_income', 'shipping_zip_code']\n",
    "\n",
    "for col in remov_outliers:\n",
    "    df, linhas_excluidas, porc_excluida = remover_outliers(df, col)\n",
    "    print(f'{col}: {linhas_excluidas} linhas excluidas, equivalem a {porc_excluida:.2%} do df')\n",
    "    histograma(df[col])"
   ]
  },
  {
   "cell_type": "markdown",
   "id": "5826bc2b",
   "metadata": {},
   "source": [
    "### - Analisando coluna e suas relações com nossa variável alvo(target_default)\n",
    "Mas antes vamos converter \"target_default\" para coluna numérica"
   ]
  },
  {
   "cell_type": "code",
   "execution_count": 687,
   "id": "2a0654c7",
   "metadata": {
    "scrolled": true
   },
   "outputs": [],
   "source": [
    "# Importando Label Encoder\n",
    "from sklearn.preprocessing import LabelEncoder, OneHotEncoder\n",
    "\n",
    "# Aplicando o encoder\n",
    "encoder = LabelEncoder().fit(df[\"target_default\"])\n",
    "df[\"target_default\"] = encoder.transform(df[\"target_default\"])"
   ]
  },
  {
   "cell_type": "markdown",
   "id": "d2b31783",
   "metadata": {},
   "source": [
    "### Verificando horas com relação a default\n",
    "**Conclusão:**<br>\n",
    "Nos horários entre 0 e 6h ocorrem maior índice de default"
   ]
  },
  {
   "cell_type": "code",
   "execution_count": 688,
   "id": "c95b512f",
   "metadata": {
    "scrolled": false
   },
   "outputs": [
    {
     "name": "stderr",
     "output_type": "stream",
     "text": [
      "C:\\Users\\devda\\AppData\\Local\\Temp\\ipykernel_15768\\3569568502.py:23: UserWarning: FixedFormatter should only be used together with FixedLocator\n",
      "  ax.set_xticklabels(grouped.index, rotation=90)\n"
     ]
    },
    {
     "data": {
      "image/png": "[encoded data removed]",
      "text/plain": [
       "<Figure size 720x432 with 1 Axes>"
      ]
     },
     "metadata": {
      "needs_background": "dark"
     },
     "output_type": "display_data"
    }
   ],
   "source": [
    "# chama a função de impacto entre colunas\n",
    "relação_entre_2_colunas(df, 'hora_default', 'target_default', 'ind')"
   ]
  },
  {
   "cell_type": "markdown",
   "id": "9d01e77c",
   "metadata": {},
   "source": [
    "### Verificando estados com relação a default\n",
    "**Conclusão:**<br>\n",
    "RR e MG apresentam maior indice de default, enquanto RS e SC menor índice."
   ]
  },
  {
   "cell_type": "code",
   "execution_count": 689,
   "id": "13b1130f",
   "metadata": {},
   "outputs": [
    {
     "name": "stderr",
     "output_type": "stream",
     "text": [
      "C:\\Users\\devda\\AppData\\Local\\Temp\\ipykernel_15768\\3569568502.py:23: UserWarning: FixedFormatter should only be used together with FixedLocator\n",
      "  ax.set_xticklabels(grouped.index, rotation=90)\n"
     ]
    },
    {
     "data": {
      "image/png": "[encoded data removed]",
      "text/plain": [
       "<Figure size 720x432 with 1 Axes>"
      ]
     },
     "metadata": {
      "needs_background": "dark"
     },
     "output_type": "display_data"
    }
   ],
   "source": [
    "# chama a função de impacto entre colunas\n",
    "relação_entre_2_colunas(df, 'shipping_state', 'target_default', 'val')"
   ]
  },
  {
   "cell_type": "markdown",
   "id": "e8d59e9b",
   "metadata": {},
   "source": [
    "### Verificando canais de divulgação com relação a default\n",
    "**Conclusão:**<br>\n",
    "Pessoas vindas por meio de sites da web tendem a uma maior taxa de default.\n"
   ]
  },
  {
   "cell_type": "code",
   "execution_count": 690,
   "id": "2eb9bb4b",
   "metadata": {
    "scrolled": true
   },
   "outputs": [
    {
     "name": "stderr",
     "output_type": "stream",
     "text": [
      "C:\\Users\\devda\\AppData\\Local\\Temp\\ipykernel_15768\\3569568502.py:23: UserWarning: FixedFormatter should only be used together with FixedLocator\n",
      "  ax.set_xticklabels(grouped.index, rotation=90)\n"
     ]
    },
    {
     "data": {
      "image/png": "[encoded data removed]",
      "text/plain": [
       "<Figure size 720x432 with 1 Axes>"
      ]
     },
     "metadata": {
      "needs_background": "dark"
     },
     "output_type": "display_data"
    }
   ],
   "source": [
    "# chama a função de impacto entre colunas\n",
    "relação_entre_2_colunas(df, 'marketing_channel', 'target_default', 'val')\n"
   ]
  },
  {
   "cell_type": "markdown",
   "id": "613bdf3f",
   "metadata": {},
   "source": [
    "### Verificando perfil no facebook com relação a default\n",
    "**Conclusão:**<br>\n",
    "Pessoas com perfil no facebook tem menor taxa de default."
   ]
  },
  {
   "cell_type": "code",
   "execution_count": 691,
   "id": "8044d463",
   "metadata": {},
   "outputs": [
    {
     "name": "stderr",
     "output_type": "stream",
     "text": [
      "C:\\Users\\devda\\AppData\\Local\\Temp\\ipykernel_15768\\3569568502.py:23: UserWarning: FixedFormatter should only be used together with FixedLocator\n",
      "  ax.set_xticklabels(grouped.index, rotation=90)\n"
     ]
    },
    {
     "data": {
      "image/png": "[encoded data removed]",
      "text/plain": [
       "<Figure size 720x432 with 1 Axes>"
      ]
     },
     "metadata": {
      "needs_background": "dark"
     },
     "output_type": "display_data"
    }
   ],
   "source": [
    "# chama a função de impacto entre colunas\n",
    "relação_entre_2_colunas(df, 'facebook_profile', 'target_default', 'val')"
   ]
  },
  {
   "cell_type": "markdown",
   "id": "49a4c2f9",
   "metadata": {},
   "source": [
    "### Regiões com maiores índices de default\n",
    "Verificamos no mapa que a região nordeste e sudeste tem maiores índices."
   ]
  },
  {
   "cell_type": "code",
   "execution_count": 692,
   "id": "2b53137b",
   "metadata": {},
   "outputs": [
    {
     "data": {
      "text/plain": [
       "<AxesSubplot:title={'center':'Regiões de default'}, xlabel='lon', ylabel='lat'>"
      ]
     },
     "execution_count": 692,
     "metadata": {},
     "output_type": "execute_result"
    },
    {
     "data": {
      "image/png": "[encoded data removed]",
      "text/plain": [
       "<Figure size 1080x720 with 2 Axes>"
      ]
     },
     "metadata": {
      "needs_background": "light"
     },
     "output_type": "display_data"
    }
   ],
   "source": [
    "df['default_1'] = df.loc[df['target_default'] == 1, 'target_default']\n",
    "\n",
    "df.plot.scatter(y=\"lat\", \n",
    "                           x=\"lon\",\n",
    "                           c=df['default_1'],\n",
    "                           cmap='hot',\n",
    "                           figsize=(15,10),\n",
    "                           title='Regiões de default')"
   ]
  },
  {
   "cell_type": "code",
   "execution_count": 693,
   "id": "8c51673f",
   "metadata": {},
   "outputs": [],
   "source": [
    "# descartando colunas que não iremos mais pecisar\n",
    "cols = ['lat', 'lon', 'default_1']\n",
    "for col in cols:\n",
    "    df = df.drop(col, axis=1)"
   ]
  },
  {
   "cell_type": "markdown",
   "id": "ac640f79",
   "metadata": {},
   "source": [
    "# Preparação dos dados"
   ]
  },
  {
   "cell_type": "code",
   "execution_count": 694,
   "id": "dc0a39eb",
   "metadata": {},
   "outputs": [
    {
     "data": {
      "text/html": [
       "<div>\n",
       "<style scoped>\n",
       "    .dataframe tbody tr th:only-of-type {\n",
       "        vertical-align: middle;\n",
       "    }\n",
       "\n",
       "    .dataframe tbody tr th {\n",
       "        vertical-align: top;\n",
       "    }\n",
       "\n",
       "    .dataframe thead th {\n",
       "        text-align: right;\n",
       "    }\n",
       "</style>\n",
       "<table border=\"1\" class=\"dataframe\">\n",
       "  <thead>\n",
       "    <tr style=\"text-align: right;\">\n",
       "      <th></th>\n",
       "      <th>facebook_profile</th>\n",
       "      <th>email</th>\n",
       "      <th>marketing_channel</th>\n",
       "      <th>shipping_state</th>\n",
       "      <th>profile_tags</th>\n",
       "    </tr>\n",
       "  </thead>\n",
       "  <tbody>\n",
       "    <tr>\n",
       "      <th>0</th>\n",
       "      <td>True</td>\n",
       "      <td>outlook.com</td>\n",
       "      <td>Invite-email</td>\n",
       "      <td>MT</td>\n",
       "      <td>n19 n8</td>\n",
       "    </tr>\n",
       "    <tr>\n",
       "      <th>1</th>\n",
       "      <td>False</td>\n",
       "      <td>gmail.com</td>\n",
       "      <td>Radio-commercial</td>\n",
       "      <td>RS</td>\n",
       "      <td>n6 n7 nim</td>\n",
       "    </tr>\n",
       "    <tr>\n",
       "      <th>3</th>\n",
       "      <td>False</td>\n",
       "      <td>spgov.com</td>\n",
       "      <td>Waiting-list</td>\n",
       "      <td>RN</td>\n",
       "      <td>n4</td>\n",
       "    </tr>\n",
       "    <tr>\n",
       "      <th>4</th>\n",
       "      <td>True</td>\n",
       "      <td>gmail.com</td>\n",
       "      <td>Invite-email</td>\n",
       "      <td>MT</td>\n",
       "      <td>pro+aty n19 da b19</td>\n",
       "    </tr>\n",
       "  </tbody>\n",
       "</table>\n",
       "</div>"
      ],
      "text/plain": [
       "  facebook_profile        email marketing_channel shipping_state  \\\n",
       "0             True  outlook.com      Invite-email             MT   \n",
       "1            False    gmail.com  Radio-commercial             RS   \n",
       "3            False    spgov.com      Waiting-list             RN   \n",
       "4             True    gmail.com      Invite-email             MT   \n",
       "\n",
       "          profile_tags  \n",
       "0               n19 n8  \n",
       "1            n6 n7 nim  \n",
       "3                   n4  \n",
       "4   pro+aty n19 da b19  "
      ]
     },
     "execution_count": 694,
     "metadata": {},
     "output_type": "execute_result"
    }
   ],
   "source": [
    "# Verificando somente colunas categóricas\n",
    "df.select_dtypes(include='object').head(4)"
   ]
  },
  {
   "cell_type": "markdown",
   "id": "d47be223",
   "metadata": {},
   "source": [
    "### - Transformando colunas categóricas em dummies"
   ]
  },
  {
   "cell_type": "markdown",
   "id": "d8fc2761",
   "metadata": {},
   "source": [
    "#### Usando Label Encoder:"
   ]
  },
  {
   "cell_type": "code",
   "execution_count": 695,
   "id": "b75b8044",
   "metadata": {},
   "outputs": [],
   "source": [
    "# Aplicando o encoder\n",
    "encoder = LabelEncoder().fit(df[\"facebook_profile\"])\n",
    "df[\"facebook_profile\"] = encoder.transform(df[\"facebook_profile\"])"
   ]
  },
  {
   "cell_type": "markdown",
   "id": "77e87c07",
   "metadata": {},
   "source": [
    "#### Usando método get dummies do pandas (One Hot Encoder)"
   ]
  },
  {
   "cell_type": "code",
   "execution_count": 696,
   "id": "40a7c922",
   "metadata": {},
   "outputs": [],
   "source": [
    "# No lugar do one-hot podemos usar get_dummies do Pandas (mesma coisa)\n",
    "\n",
    "col_categoricas = ['email', 'marketing_channel', 'shipping_state']\n",
    "\n",
    "#for col in col_categoricas:\n",
    "df = pd.get_dummies(df, columns = col_categoricas)\n"
   ]
  },
  {
   "cell_type": "markdown",
   "id": "22c0ccb5",
   "metadata": {},
   "source": [
    "#### Coluna profile_tags tem que ser feita na mão"
   ]
  },
  {
   "cell_type": "code",
   "execution_count": 697,
   "id": "887280c7",
   "metadata": {},
   "outputs": [],
   "source": [
    "# Transformando cada linha em uma lista de tags\n",
    "df['profile_tags'] = df['profile_tags'].str.split()"
   ]
  },
  {
   "cell_type": "code",
   "execution_count": 698,
   "id": "e07ef6f8",
   "metadata": {},
   "outputs": [],
   "source": [
    "todas_tags=[]\n",
    "# Colocando cada tag em uma lista geral de tags\n",
    "for tags in df['profile_tags']:\n",
    "    for tag in tags:\n",
    "        todas_tags.append(tag)\n",
    "\n",
    "# Separando as tags únicas\n",
    "tags_unicas = list(set(todas_tags))\n",
    "\n",
    "# Transformando as tags únicas em uma coluna com 0 e 1s (dummies)\n",
    "for tag in tags_unicas:\n",
    "     df[tag] = df['profile_tags'].apply(lambda x: 1 if tag in x else 0)\n",
    "\n",
    "# Excluindo a coluna profile tags\n",
    "df.drop('profile_tags', axis=1, inplace=True)"
   ]
  },
  {
   "cell_type": "markdown",
   "id": "becb00d0",
   "metadata": {},
   "source": [
    "### Tratando Multicolinearidade\n",
    "O One-hot encoder (e tbm get_dummies do Pandas) pode gerar problema dammy variable trap caindo no problema da multicolinearidade onde as variáveis podem resumidamente \"atrapalhar\" mais que \"ajudar\" no nosso modelo, por isso medimos o nível de multicolinearidade com a tabela abaixo:<br>\n",
    "* Tabela de medição multicolinearidade (VIF, variance inflation factor)\n",
    "    - VIF = 1 : Menos multicolinearidade\n",
    "    - VIF < 5 : multicolinearidade moderada\n",
    "    - VIF > 5 : multicolinearidade extrema (isso que devemos evitar)\n",
    "* Para evitar esse problema uma das variáveis dummies deve ser descartada, para isso iremos usar a função abaixo para medir o nível de pontuação VIF:"
   ]
  },
  {
   "cell_type": "markdown",
   "id": "172f6929",
   "metadata": {},
   "source": [
    "#### - Função de cálculo multicolinearidade"
   ]
  },
  {
   "cell_type": "code",
   "execution_count": 699,
   "id": "ddb6e1b6",
   "metadata": {},
   "outputs": [],
   "source": [
    "# Nível de pontuação VIF\n",
    "import statsmodels.api as sm\n",
    "\n",
    "def pontuação_vif(df):\n",
    "    vif_df = pd.DataFrame(columns = ['var', 'vif'])\n",
    "    x_var_names = df.columns\n",
    "    \n",
    "    # Para o número total de colunas na tabela\n",
    "    for i in range(0, x_var_names.shape[0]):\n",
    "        y = df[x_var_names[i]]\n",
    "        x = df[x_var_names.drop([x_var_names[i]])]\n",
    "        r_squared = sm.OLS(y,x).fit().rsquared\n",
    "        vif = round(1/(1-r_squared),2)\n",
    "        vif_df.loc[i] = [x_var_names[i], vif]\n",
    "        \n",
    "    return vif_df.sort_values(by = 'vif', axis=0, ascending=True, inplace=False)\n",
    "        "
   ]
  },
  {
   "cell_type": "markdown",
   "id": "21db28eb",
   "metadata": {},
   "source": [
    "#### - Lista de colunas convertidas em dummies\n",
    "Precisamos verificar a multicolinearidade nas colunas que foram convertidas em dummies"
   ]
  },
  {
   "cell_type": "code",
   "execution_count": 700,
   "id": "6612e6d9",
   "metadata": {},
   "outputs": [],
   "source": [
    "df_vif = df[['email_gmail.com',\n",
    "       'email_hotmail.com', 'email_outlook.com', 'email_spgov.com',\n",
    "       'marketing_channel_Facebook', 'marketing_channel_Instagram',\n",
    "       'marketing_channel_Invite-email', 'marketing_channel_Invite-web',\n",
    "       'marketing_channel_LinkedIn', 'marketing_channel_Radio-commercial',\n",
    "       'marketing_channel_Twitter', 'marketing_channel_Waiting-list',\n",
    "       'marketing_channel_Website', 'shipping_state_AC', 'shipping_state_AL',\n",
    "       'shipping_state_AM', 'shipping_state_AP', 'shipping_state_BA',\n",
    "       'shipping_state_CE', 'shipping_state_DF', 'shipping_state_ES',\n",
    "       'shipping_state_GO', 'shipping_state_MA', 'shipping_state_MG',\n",
    "       'shipping_state_MS', 'shipping_state_MT', 'shipping_state_PA',\n",
    "       'shipping_state_PB', 'shipping_state_PE', 'shipping_state_PR',\n",
    "       'shipping_state_RN', 'shipping_state_RO', 'shipping_state_RR',\n",
    "       'shipping_state_RS', 'shipping_state_SC', 'shipping_state_SE',\n",
    "       'shipping_state_SP', 'shipping_state_TO', 'n14', 'c1', 'n15', 'n10',\n",
    "       'n8', 'n18', 'n11', 'a15', 'pro+aty', 'n12', 'n16', 'aty', 'n2', 'n3',\n",
    "       'n5', 'n9', 'n6', 'n17', 'n1', 'dfa', 'n19', 'nim', 'c55', 'n0', 'b19',\n",
    "       'n13', 'n4', 'n7', 'da']]\n"
   ]
  },
  {
   "cell_type": "code",
   "execution_count": 701,
   "id": "7f205498",
   "metadata": {},
   "outputs": [],
   "source": [
    "# calculando a pontuação vif\n",
    "vif_df = pontuação_vif(df_vif)"
   ]
  },
  {
   "cell_type": "code",
   "execution_count": 702,
   "id": "81149424",
   "metadata": {},
   "outputs": [
    {
     "data": {
      "text/html": [
       "<div>\n",
       "<style scoped>\n",
       "    .dataframe tbody tr th:only-of-type {\n",
       "        vertical-align: middle;\n",
       "    }\n",
       "\n",
       "    .dataframe tbody tr th {\n",
       "        vertical-align: top;\n",
       "    }\n",
       "\n",
       "    .dataframe thead th {\n",
       "        text-align: right;\n",
       "    }\n",
       "</style>\n",
       "<table border=\"1\" class=\"dataframe\">\n",
       "  <thead>\n",
       "    <tr style=\"text-align: right;\">\n",
       "      <th></th>\n",
       "      <th>var</th>\n",
       "      <th>vif</th>\n",
       "    </tr>\n",
       "  </thead>\n",
       "  <tbody>\n",
       "    <tr>\n",
       "      <th>51</th>\n",
       "      <td>n3</td>\n",
       "      <td>1.0</td>\n",
       "    </tr>\n",
       "    <tr>\n",
       "      <th>40</th>\n",
       "      <td>n15</td>\n",
       "      <td>1.0</td>\n",
       "    </tr>\n",
       "    <tr>\n",
       "      <th>43</th>\n",
       "      <td>n18</td>\n",
       "      <td>1.0</td>\n",
       "    </tr>\n",
       "    <tr>\n",
       "      <th>58</th>\n",
       "      <td>n19</td>\n",
       "      <td>1.0</td>\n",
       "    </tr>\n",
       "  </tbody>\n",
       "</table>\n",
       "</div>"
      ],
      "text/plain": [
       "    var  vif\n",
       "51   n3  1.0\n",
       "40  n15  1.0\n",
       "43  n18  1.0\n",
       "58  n19  1.0"
      ]
     },
     "execution_count": 702,
     "metadata": {},
     "output_type": "execute_result"
    }
   ],
   "source": [
    "# verificando a tabela vif\n",
    "vif_df.head(4)"
   ]
  },
  {
   "cell_type": "code",
   "execution_count": 703,
   "id": "b0298fe3",
   "metadata": {},
   "outputs": [],
   "source": [
    "# pegando a lista de colunas com vif acima de 5 (multicolinearidade extrema)\n",
    "lista = vif_df.loc[vif_df.vif > 5, 'var']\n",
    "lista_multcol = []\n",
    "for col in lista:\n",
    "    lista_multcol.append(col)"
   ]
  },
  {
   "cell_type": "code",
   "execution_count": 704,
   "id": "23c2ea67",
   "metadata": {},
   "outputs": [],
   "source": [
    "# excluindo colunas com multicolinearidade extrema (38 colunas)\n",
    "for col in lista_multcol:\n",
    "    df.drop(col, axis=1, inplace=True)"
   ]
  },
  {
   "cell_type": "markdown",
   "id": "948ee409",
   "metadata": {},
   "source": [
    "**Resumo do tratamento de multicolineariade**\n",
    "Quando convertemos colunas categoricas em variáveis dummies criamos mais 67 outras colunas no dataframe, destas 67, foi detectado que 38 delas estavam com multicolineariade acima de 5 da tabela VIF, onde decidimos excluir-las para não prejudicar nosso modelo."
   ]
  },
  {
   "cell_type": "markdown",
   "id": "27ca8393",
   "metadata": {},
   "source": [
    "# Normalização ou padronização \n",
    "Vamos realizar os 2 procedimentos ver o que tem melhor acurácia para depois escolher qual tipo de redimensionamento iremos escolher"
   ]
  },
  {
   "cell_type": "markdown",
   "id": "6ac140f0",
   "metadata": {},
   "source": [
    "### - Normalizando"
   ]
  },
  {
   "cell_type": "code",
   "execution_count": 705,
   "id": "aad0bbb2",
   "metadata": {},
   "outputs": [],
   "source": [
    "from sklearn.preprocessing import MinMaxScaler\n",
    "\n",
    "# Separando X e y\n",
    "X = df.drop('target_default', axis=1)\n",
    "y = df[['target_default']]\n",
    "\n",
    "# instanciando a classe\n",
    "scaler = MinMaxScaler(feature_range=(0, 1))\n",
    "\n",
    "# normalizando\n",
    "X_normaliz = scaler.fit_transform(X)"
   ]
  },
  {
   "cell_type": "markdown",
   "id": "97a4edca",
   "metadata": {},
   "source": [
    "### - Padronizando"
   ]
  },
  {
   "cell_type": "code",
   "execution_count": 706,
   "id": "c70ba657",
   "metadata": {},
   "outputs": [],
   "source": [
    "from sklearn.preprocessing import StandardScaler\n",
    "\n",
    "# Separando X e y\n",
    "X = df.drop('target_default', axis=1)\n",
    "y = df[['target_default']]\n",
    "\n",
    "# instanciando a classe\n",
    "scaler = StandardScaler().fit(X)\n",
    "\n",
    "# normalizando\n",
    "X_padro = scaler.transform(X)"
   ]
  },
  {
   "cell_type": "markdown",
   "id": "7f2f31e2",
   "metadata": {},
   "source": [
    "### - Criando nosso modelo"
   ]
  },
  {
   "cell_type": "code",
   "execution_count": 707,
   "id": "58f1ec29",
   "metadata": {},
   "outputs": [],
   "source": [
    "from sklearn.model_selection import KFold\n",
    "from sklearn.model_selection import cross_val_score\n",
    "from sklearn.neighbors import KNeighborsClassifier\n",
    "\n",
    "# separando dados em folds\n",
    "kfold  = KFold(n_splits=5, shuffle=False)\n",
    "\n",
    "# criando modelo\n",
    "modelo = KNeighborsClassifier()"
   ]
  },
  {
   "cell_type": "markdown",
   "id": "6801bf31",
   "metadata": {},
   "source": [
    "### - Prevendo sem redimensionamento"
   ]
  },
  {
   "cell_type": "code",
   "execution_count": 708,
   "id": "7c95c813",
   "metadata": {},
   "outputs": [
    {
     "name": "stderr",
     "output_type": "stream",
     "text": [
      "C:\\Users\\devda\\anaconda3\\lib\\site-packages\\sklearn\\neighbors\\_classification.py:198: DataConversionWarning: A column-vector y was passed when a 1d array was expected. Please change the shape of y to (n_samples,), for example using ravel().\n",
      "  return self._fit(X, y)\n",
      "C:\\Users\\devda\\anaconda3\\lib\\site-packages\\sklearn\\neighbors\\_classification.py:198: DataConversionWarning: A column-vector y was passed when a 1d array was expected. Please change the shape of y to (n_samples,), for example using ravel().\n",
      "  return self._fit(X, y)\n",
      "C:\\Users\\devda\\anaconda3\\lib\\site-packages\\sklearn\\neighbors\\_classification.py:198: DataConversionWarning: A column-vector y was passed when a 1d array was expected. Please change the shape of y to (n_samples,), for example using ravel().\n",
      "  return self._fit(X, y)\n",
      "C:\\Users\\devda\\anaconda3\\lib\\site-packages\\sklearn\\neighbors\\_classification.py:198: DataConversionWarning: A column-vector y was passed when a 1d array was expected. Please change the shape of y to (n_samples,), for example using ravel().\n",
      "  return self._fit(X, y)\n",
      "C:\\Users\\devda\\anaconda3\\lib\\site-packages\\sklearn\\neighbors\\_classification.py:198: DataConversionWarning: A column-vector y was passed when a 1d array was expected. Please change the shape of y to (n_samples,), for example using ravel().\n",
      "  return self._fit(X, y)\n"
     ]
    },
    {
     "name": "stdout",
     "output_type": "stream",
     "text": [
      "Acuracia de 81.59969802447063\n"
     ]
    }
   ],
   "source": [
    "res = cross_val_score(modelo, X, y, cv = kfold)\n",
    "acc = res.mean() * 100\n",
    "print(f'Acuracia de {acc}')"
   ]
  },
  {
   "cell_type": "markdown",
   "id": "fb1b89d9",
   "metadata": {},
   "source": [
    "### - Prevendo com dados normalizados"
   ]
  },
  {
   "cell_type": "code",
   "execution_count": 709,
   "id": "b245f34b",
   "metadata": {},
   "outputs": [
    {
     "name": "stderr",
     "output_type": "stream",
     "text": [
      "C:\\Users\\devda\\anaconda3\\lib\\site-packages\\sklearn\\neighbors\\_classification.py:198: DataConversionWarning: A column-vector y was passed when a 1d array was expected. Please change the shape of y to (n_samples,), for example using ravel().\n",
      "  return self._fit(X, y)\n",
      "C:\\Users\\devda\\anaconda3\\lib\\site-packages\\sklearn\\neighbors\\_classification.py:198: DataConversionWarning: A column-vector y was passed when a 1d array was expected. Please change the shape of y to (n_samples,), for example using ravel().\n",
      "  return self._fit(X, y)\n",
      "C:\\Users\\devda\\anaconda3\\lib\\site-packages\\sklearn\\neighbors\\_classification.py:198: DataConversionWarning: A column-vector y was passed when a 1d array was expected. Please change the shape of y to (n_samples,), for example using ravel().\n",
      "  return self._fit(X, y)\n",
      "C:\\Users\\devda\\anaconda3\\lib\\site-packages\\sklearn\\neighbors\\_classification.py:198: DataConversionWarning: A column-vector y was passed when a 1d array was expected. Please change the shape of y to (n_samples,), for example using ravel().\n",
      "  return self._fit(X, y)\n",
      "C:\\Users\\devda\\anaconda3\\lib\\site-packages\\sklearn\\neighbors\\_classification.py:198: DataConversionWarning: A column-vector y was passed when a 1d array was expected. Please change the shape of y to (n_samples,), for example using ravel().\n",
      "  return self._fit(X, y)\n"
     ]
    },
    {
     "name": "stdout",
     "output_type": "stream",
     "text": [
      "Acuracia de 81.8205725029521\n"
     ]
    }
   ],
   "source": [
    "res = cross_val_score(modelo, X_normaliz, y, cv = kfold)\n",
    "acc = res.mean() * 100\n",
    "print(f'Acuracia de {acc}')"
   ]
  },
  {
   "cell_type": "markdown",
   "id": "07c2ccb7",
   "metadata": {},
   "source": [
    "### - Prevendo com dados padronizados"
   ]
  },
  {
   "cell_type": "code",
   "execution_count": 710,
   "id": "298a2ee6",
   "metadata": {},
   "outputs": [
    {
     "name": "stderr",
     "output_type": "stream",
     "text": [
      "C:\\Users\\devda\\anaconda3\\lib\\site-packages\\sklearn\\neighbors\\_classification.py:198: DataConversionWarning: A column-vector y was passed when a 1d array was expected. Please change the shape of y to (n_samples,), for example using ravel().\n",
      "  return self._fit(X, y)\n",
      "C:\\Users\\devda\\anaconda3\\lib\\site-packages\\sklearn\\neighbors\\_classification.py:198: DataConversionWarning: A column-vector y was passed when a 1d array was expected. Please change the shape of y to (n_samples,), for example using ravel().\n",
      "  return self._fit(X, y)\n",
      "C:\\Users\\devda\\anaconda3\\lib\\site-packages\\sklearn\\neighbors\\_classification.py:198: DataConversionWarning: A column-vector y was passed when a 1d array was expected. Please change the shape of y to (n_samples,), for example using ravel().\n",
      "  return self._fit(X, y)\n",
      "C:\\Users\\devda\\anaconda3\\lib\\site-packages\\sklearn\\neighbors\\_classification.py:198: DataConversionWarning: A column-vector y was passed when a 1d array was expected. Please change the shape of y to (n_samples,), for example using ravel().\n",
      "  return self._fit(X, y)\n",
      "C:\\Users\\devda\\anaconda3\\lib\\site-packages\\sklearn\\neighbors\\_classification.py:198: DataConversionWarning: A column-vector y was passed when a 1d array was expected. Please change the shape of y to (n_samples,), for example using ravel().\n",
      "  return self._fit(X, y)\n"
     ]
    },
    {
     "name": "stdout",
     "output_type": "stream",
     "text": [
      "Acuracia de 82.17759542907034\n"
     ]
    }
   ],
   "source": [
    "res = cross_val_score(modelo, X_padro, y, cv = kfold)\n",
    "acc = res.mean() * 100\n",
    "print(f'Acuracia de {acc}')"
   ]
  },
  {
   "cell_type": "markdown",
   "id": "584d381e",
   "metadata": {},
   "source": [
    "##### Os dados padronizados \"ganhou a batalha\", então vamos escolher este método de redimensionamento."
   ]
  },
  {
   "cell_type": "markdown",
   "id": "7bfbb26c",
   "metadata": {},
   "source": [
    "# Balanceamento de classes\n",
    "a coluna target_default está desbalanceada, encontramos mais amostras da classe 0 que da classe 1, isso induz o modelo a aprender mais sobre um e menos sobre o outro, então vamos balancear.<br>\n",
    "Vamos usar a técnica Oversampling conhecida como SMOTE, que consiste em replicar a classe minoritária para contrabalancear com a classe majoritária.\n",
    "\n",
    "**ATENÇÃO:** Lembando que não se deve realizar o balanceamento de classe antes do cross validation. [Para saber mais clique aqui!](https://github.com/dev-daniel-amorim/DS-Balanceamento_de_classes/blob/main/README.md)"
   ]
  },
  {
   "cell_type": "code",
   "execution_count": 711,
   "id": "27262928",
   "metadata": {},
   "outputs": [
    {
     "data": {
      "image/png": "[encoded data removed]",
      "text/plain": [
       "<Figure size 432x288 with 1 Axes>"
      ]
     },
     "metadata": {
      "needs_background": "light"
     },
     "output_type": "display_data"
    },
    {
     "data": {
      "text/plain": [
       "0    22783\n",
       "1     4385\n",
       "Name: target_default, dtype: int64"
      ]
     },
     "execution_count": 711,
     "metadata": {},
     "output_type": "execute_result"
    }
   ],
   "source": [
    "sns.countplot(x =df['target_default'])\n",
    "plt.show()\n",
    "df['target_default'].value_counts()"
   ]
  },
  {
   "cell_type": "code",
   "execution_count": 712,
   "id": "9fa083e9",
   "metadata": {},
   "outputs": [
    {
     "data": {
      "image/jpeg": "[encoded data removed]",
      "text/plain": [
       "<IPython.core.display.Image object>"
      ]
     },
     "execution_count": 712,
     "metadata": {},
     "output_type": "execute_result"
    }
   ],
   "source": [
    "from IPython.display import Image\n",
    "Image('balance.jpg')"
   ]
  },
  {
   "cell_type": "code",
   "execution_count": 713,
   "id": "d2de298b",
   "metadata": {},
   "outputs": [
    {
     "name": "stdout",
     "output_type": "stream",
     "text": [
      "A classe minoritária corresponde a 16.14% dos dados\n",
      "Desequilibrio grau moderado\n"
     ]
    }
   ],
   "source": [
    "proporcao = (df.target_default.value_counts()[1]/df.shape[0]) * 100\n",
    "print(f'A classe minoritária corresponde a {proporcao:.2f}% dos dados')\n",
    "print('Desequilibrio grau moderado')"
   ]
  },
  {
   "cell_type": "markdown",
   "id": "feb1776f",
   "metadata": {},
   "source": [
    "### - Balancear dados de treino sem balancear a validação\n",
    "Aplico esse método pois o que buscamos em um modelo?\n",
    "\n",
    "Resposta: Buscamos um modelo preditivo capaz de prever dados na vida real!\n",
    "\n",
    "Com base nisso, não balanceamos os dados de validação, asim ele se mantem fiel a realidade da vida real, pois na vida real os dados não são balanceados, ENTENDEU a sacada? "
   ]
  },
  {
   "cell_type": "markdown",
   "id": "0fd0bf3d",
   "metadata": {},
   "source": [
    "### - Separando dados de treino e teste"
   ]
  },
  {
   "cell_type": "code",
   "execution_count": 714,
   "id": "033a8565",
   "metadata": {},
   "outputs": [],
   "source": [
    "# temos que converter o array X_padro para dataframe X_padrodf \n",
    "# ou teremos problema com metodo iloc na função artesanal abaixo\n",
    "X_padrodf = pd.DataFrame(X_padro, columns=X.columns)"
   ]
  },
  {
   "cell_type": "code",
   "execution_count": 715,
   "id": "86f5d8c0",
   "metadata": {},
   "outputs": [
    {
     "data": {
      "text/plain": [
       "((20376, 47), (6792, 47), (20376, 1), (6792, 1))"
      ]
     },
     "execution_count": 715,
     "metadata": {},
     "output_type": "execute_result"
    }
   ],
   "source": [
    "from sklearn.model_selection import train_test_split\n",
    "\n",
    "# Separando treino e teste (O teste a gente esquece por enquanto)\n",
    "X_treino, X_test, y_treino, y_test = train_test_split(X_padrodf, y)\n",
    "\n",
    "X_treino.shape, X_test.shape, y_treino.shape, y_test.shape"
   ]
  },
  {
   "cell_type": "code",
   "execution_count": 716,
   "id": "2c3b75c3",
   "metadata": {},
   "outputs": [
    {
     "data": {
      "image/png": "[encoded data removed]",
      "text/plain": [
       "<Figure size 432x288 with 1 Axes>"
      ]
     },
     "metadata": {
      "needs_background": "light"
     },
     "output_type": "display_data"
    },
    {
     "data": {
      "text/plain": [
       "0    17104\n",
       "1     3272\n",
       "Name: target_default, dtype: int64"
      ]
     },
     "execution_count": 716,
     "metadata": {},
     "output_type": "execute_result"
    }
   ],
   "source": [
    "# y_treino continua desbalanceado\n",
    "sns.countplot(x =y_treino['target_default'])\n",
    "plt.show()\n",
    "y_treino['target_default'].value_counts()"
   ]
  },
  {
   "cell_type": "markdown",
   "id": "6c6fade8",
   "metadata": {},
   "source": [
    "### - Agora vamos aplicar SMOTE (s/ validação balanceada)\n",
    "O cross validation não é capaz de separar a validação sem balancea-la, para isso temos que fazer manualmente coma função abaixo.\n",
    "O que iremos fazer, cria uma validação mais fiel a realidade, ou seja, seu modelo estará preparado para responder uma acurácia realista, pois como a validação não foi balanceada não corremos o risco de ser \"enganado\" pelo nosso modelo."
   ]
  },
  {
   "cell_type": "code",
   "execution_count": 737,
   "id": "91ab5101",
   "metadata": {},
   "outputs": [],
   "source": [
    "# função de validação cruzada \"artesanal\" para não balancear a validação\n",
    "from sklearn.model_selection import KFold\n",
    "\n",
    "# Oversamping = False nossa validação não será balanceada\n",
    "def validacao_cruzada(modelo, X, y, oversampling=False):\n",
    "    \n",
    "    kfold = KFold(n_splits=10, shuffle=False, random_state=None) # n_split:divide em lotes, shuffle: embaralha antes de dividir \n",
    "    \n",
    "    # Lista de acurácia\n",
    "    acuracias_split = []\n",
    "    \n",
    "    # iterando sobres os splits de treino e validação (recebe os índices)\n",
    "    for idx, (idx_treino, idx_validacao) in enumerate(kfold.split(X)):\n",
    "        X_split_treino = X.iloc[idx_treino, :]\n",
    "        y_split_treino = y.iloc[idx_treino, :] \n",
    "        \n",
    "        # oversampling = True, então executamos o balanceamento (SÓ NO TREINO)\n",
    "        if oversampling:\n",
    "            sm = SMOTE(random_state=40)\n",
    "            X_split_treino, y_split_treino, = sm.fit_resample(X_split_treino, y_split_treino)\n",
    "        \n",
    "        # Vamos treinar nosso modelo\n",
    "        modelo.fit(X_split_treino, y_split_treino.values.flatten())\n",
    "        \n",
    "        # A validação ficou de fora do SMOTE (balanceamento)\n",
    "        X_split_validacao = X.iloc[idx_validacao, :]\n",
    "        y_split_validacao = y.iloc[idx_validacao, :]\n",
    "        \n",
    "        # validacao SEM OVERSAMPLIG, que é o certo!\n",
    "        # amostras desbalanceadas igual mundo real\n",
    "        predições_validacao = modelo.predict(X_split_validacao)\n",
    "        \n",
    "        acuracia_split = accuracy_score(y_split_validacao, predições_validacao)\n",
    "        \n",
    "        acuracias_split.append(acuracia_split)\n",
    "        \n",
    "        acuracia_split = acuracia_split * 100\n",
    "\n",
    "        print(f'Acurácia do split {idx + 1}: {acuracia_split:.2f}%')\n",
    "        \n",
    "    return acuracias_split, y_split_treino, y_split_validacao\n",
    "        "
   ]
  },
  {
   "cell_type": "markdown",
   "id": "e9b69905",
   "metadata": {},
   "source": [
    "### - Criando nosso modelo"
   ]
  },
  {
   "cell_type": "code",
   "execution_count": 718,
   "id": "01a3c831",
   "metadata": {},
   "outputs": [],
   "source": [
    "from sklearn.ensemble import HistGradientBoostingClassifier\n",
    "from statistics import mean\n",
    "from sklearn.metrics import accuracy_score, confusion_matrix, classification_report\n",
    "\n",
    "\n",
    "# Criando o modelo\n",
    "modelo_hgb = HistGradientBoostingClassifier()"
   ]
  },
  {
   "cell_type": "markdown",
   "id": "bb537672",
   "metadata": {},
   "source": [
    "### - Aplicando nosso modelo sem oversampling\n",
    "Sem balancear os dados de treino (e validação desbalanceada claro)"
   ]
  },
  {
   "cell_type": "code",
   "execution_count": 738,
   "id": "33013ced",
   "metadata": {
    "scrolled": false
   },
   "outputs": [
    {
     "name": "stdout",
     "output_type": "stream",
     "text": [
      "Acurácia do split 1: 84.20%\n",
      "Acurácia do split 2: 83.37%\n",
      "Acurácia do split 3: 84.79%\n",
      "Acurácia do split 4: 84.15%\n",
      "Acurácia do split 5: 84.10%\n",
      "Acurácia do split 6: 84.59%\n",
      "Acurácia do split 7: 83.16%\n",
      "Acurácia do split 8: 84.24%\n",
      "Acurácia do split 9: 84.19%\n",
      "Acurácia do split 10: 83.95%\n"
     ]
    }
   ],
   "source": [
    "media_acuracia_sem_smote, treino, val = (validacao_cruzada(modelo_hgb, X_treino, y_treino, oversampling=False))"
   ]
  },
  {
   "cell_type": "markdown",
   "id": "8683f201",
   "metadata": {},
   "source": [
    "### - Aplicando nosso modelo com oversampling\n",
    "Balanceando os dados de treino (e validação desbalanceada claro)"
   ]
  },
  {
   "cell_type": "code",
   "execution_count": 739,
   "id": "12970101",
   "metadata": {
    "scrolled": true
   },
   "outputs": [
    {
     "name": "stdout",
     "output_type": "stream",
     "text": [
      "Acurácia do split 1: 83.07%\n",
      "Acurácia do split 2: 83.02%\n",
      "Acurácia do split 3: 84.74%\n",
      "Acurácia do split 4: 83.37%\n",
      "Acurácia do split 5: 84.20%\n",
      "Acurácia do split 6: 84.49%\n",
      "Acurácia do split 7: 82.57%\n",
      "Acurácia do split 8: 83.41%\n",
      "Acurácia do split 9: 83.75%\n",
      "Acurácia do split 10: 83.60%\n"
     ]
    }
   ],
   "source": [
    "media_acuracia_com_smote, treino, val = (validacao_cruzada(modelo_hgb, X_treino, y_treino, oversampling=True))"
   ]
  },
  {
   "cell_type": "code",
   "execution_count": 740,
   "id": "2be86936",
   "metadata": {
    "scrolled": true
   },
   "outputs": [
    {
     "name": "stdout",
     "output_type": "stream",
     "text": [
      "----------Média de acurácias ---------\n",
      "Sem Treino balanceado: 84.07%\n",
      "Com Treino balanceado: 83.62%\n"
     ]
    }
   ],
   "source": [
    "s_smote = mean(media_acuracia_sem_smote) * 100\n",
    "c_smote = mean(media_acuracia_com_smote) * 100\n",
    "print('----------Média de acurácias ---------')\n",
    "print(f'Sem Treino balanceado: {s_smote:.2f}%')\n",
    "print(f'Com Treino balanceado: {c_smote:.2f}%')"
   ]
  },
  {
   "cell_type": "markdown",
   "id": "17599fbe",
   "metadata": {},
   "source": [
    "### - Balanceamento da validação (Modo errado)\n",
    "Executando o cross validation vai balancear a validação, a acurácia vai subir bastante, porém fugindo da realidade do mundo real, e podemos cair numa \"ilusão\".\n",
    "\n",
    "Note que acurácia subiu pra 88,65% melhorou seu modelo? Não, cuidado pra não se iludir, somente a realidade está distorcida,uma realidade mascarada!\n",
    "\n",
    "OBS: Usar a forma errada numa competição de DS você pode até ganhar pois o que importa é a acurácia, mas usar a forma errada numa empresa pode dar prejuizo para você e para a empresa!"
   ]
  },
  {
   "cell_type": "code",
   "execution_count": 741,
   "id": "1d2ed8c8",
   "metadata": {},
   "outputs": [
    {
     "name": "stdout",
     "output_type": "stream",
     "text": [
      "Média com o balanceamento da validação: 88.65%\n"
     ]
    }
   ],
   "source": [
    "from sklearn.model_selection import cross_val_score\n",
    "\n",
    "# ERRADO! Não se deve balancear as classes antes do split\n",
    "sm = SMOTE(random_state=40)\n",
    "X_treinocv, y_treinocv = sm.fit_resample(X_treino, y_treino)\n",
    "\n",
    "# Os splits criados no cross_val_score estão com a validação BALANCEADA\n",
    "# E isso é distorcer a realidade!\n",
    "media = mean(cross_val_score(modelo_hgb, X_treinocv, y_treinocv.values.flatten())) * 100\n",
    "print(f'Média com o balanceamento da validação: {media:.2f}%')"
   ]
  },
  {
   "cell_type": "code",
   "execution_count": null,
   "id": "59cba736",
   "metadata": {},
   "outputs": [],
   "source": []
  }
 ],
 "metadata": {
  "kernelspec": {
   "display_name": "Python 3 (ipykernel)",
   "language": "python",
   "name": "python3"
  },
  "language_info": {
   "codemirror_mode": {
    "name": "ipython",
    "version": 3
   },
   "file_extension": ".py",
   "mimetype": "text/x-python",
   "name": "python",
   "nbconvert_exporter": "python",
   "pygments_lexer": "ipython3",
   "version": "3.9.12"
  }
 },
 "nbformat": 4,
 "nbformat_minor": 5
}
